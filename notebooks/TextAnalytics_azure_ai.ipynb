{
  "cells": [
    {
      "cell_type": "markdown",
      "metadata": {
        "id": "view-in-github",
        "colab_type": "text"
      },
      "source": [
        "<a href=\"https://colab.research.google.com/github/Nikunjbansal99/Cloud-AI/blob/main/TextAnalytics_azure_ai.ipynb\" target=\"_parent\"><img src=\"https://colab.research.google.com/assets/colab-badge.svg\" alt=\"Open In Colab\"/></a>"
      ]
    },
    {
      "metadata": {
        "trusted": true,
        "id": "wSWf7CtVBLHs",
        "outputId": "d78b9449-874e-4d8f-82a5-eb6464928612",
        "colab": {
          "base_uri": "https://localhost:8080/"
        }
      },
      "cell_type": "code",
      "source": [
        "!pip install azure-ai-textanalytics"
      ],
      "execution_count": null,
      "outputs": [
        {
          "output_type": "stream",
          "name": "stdout",
          "text": [
            "Collecting azure-ai-textanalytics\n",
            "  Downloading azure_ai_textanalytics-5.1.0-py2.py3-none-any.whl (153 kB)\n",
            "\u001b[K     |████████████████████████████████| 153 kB 5.4 MB/s \n",
            "\u001b[?25hCollecting azure-core<2.0.0,>=1.14.0\n",
            "  Downloading azure_core-1.23.0-py3-none-any.whl (179 kB)\n",
            "\u001b[K     |████████████████████████████████| 179 kB 40.9 MB/s \n",
            "\u001b[?25hRequirement already satisfied: six>=1.11.0 in /usr/local/lib/python3.7/dist-packages (from azure-ai-textanalytics) (1.15.0)\n",
            "Collecting azure-common~=1.1\n",
            "  Downloading azure_common-1.1.28-py2.py3-none-any.whl (14 kB)\n",
            "Collecting msrest>=0.6.21\n",
            "  Downloading msrest-0.6.21-py2.py3-none-any.whl (85 kB)\n",
            "\u001b[K     |████████████████████████████████| 85 kB 3.8 MB/s \n",
            "\u001b[?25hCollecting typing-extensions>=4.0.1\n",
            "  Downloading typing_extensions-4.1.1-py3-none-any.whl (26 kB)\n",
            "Requirement already satisfied: requests>=2.18.4 in /usr/local/lib/python3.7/dist-packages (from azure-core<2.0.0,>=1.14.0->azure-ai-textanalytics) (2.23.0)\n",
            "Collecting isodate>=0.6.0\n",
            "  Downloading isodate-0.6.1-py2.py3-none-any.whl (41 kB)\n",
            "\u001b[K     |████████████████████████████████| 41 kB 538 kB/s \n",
            "\u001b[?25hRequirement already satisfied: certifi>=2017.4.17 in /usr/local/lib/python3.7/dist-packages (from msrest>=0.6.21->azure-ai-textanalytics) (2021.10.8)\n",
            "Requirement already satisfied: requests-oauthlib>=0.5.0 in /usr/local/lib/python3.7/dist-packages (from msrest>=0.6.21->azure-ai-textanalytics) (1.3.1)\n",
            "Requirement already satisfied: idna<3,>=2.5 in /usr/local/lib/python3.7/dist-packages (from requests>=2.18.4->azure-core<2.0.0,>=1.14.0->azure-ai-textanalytics) (2.10)\n",
            "Requirement already satisfied: urllib3!=1.25.0,!=1.25.1,<1.26,>=1.21.1 in /usr/local/lib/python3.7/dist-packages (from requests>=2.18.4->azure-core<2.0.0,>=1.14.0->azure-ai-textanalytics) (1.24.3)\n",
            "Requirement already satisfied: chardet<4,>=3.0.2 in /usr/local/lib/python3.7/dist-packages (from requests>=2.18.4->azure-core<2.0.0,>=1.14.0->azure-ai-textanalytics) (3.0.4)\n",
            "Requirement already satisfied: oauthlib>=3.0.0 in /usr/local/lib/python3.7/dist-packages (from requests-oauthlib>=0.5.0->msrest>=0.6.21->azure-ai-textanalytics) (3.2.0)\n",
            "Installing collected packages: typing-extensions, isodate, msrest, azure-core, azure-common, azure-ai-textanalytics\n",
            "  Attempting uninstall: typing-extensions\n",
            "    Found existing installation: typing-extensions 3.10.0.2\n",
            "    Uninstalling typing-extensions-3.10.0.2:\n",
            "      Successfully uninstalled typing-extensions-3.10.0.2\n",
            "\u001b[31mERROR: pip's dependency resolver does not currently take into account all the packages that are installed. This behaviour is the source of the following dependency conflicts.\n",
            "tensorflow 2.8.0 requires tf-estimator-nightly==2.8.0.dev2021122109, which is not installed.\n",
            "arviz 0.11.4 requires typing-extensions<4,>=3.7.4.3, but you have typing-extensions 4.1.1 which is incompatible.\u001b[0m\n",
            "Successfully installed azure-ai-textanalytics-5.1.0 azure-common-1.1.28 azure-core-1.23.0 isodate-0.6.1 msrest-0.6.21 typing-extensions-4.1.1\n"
          ]
        }
      ]
    },
    {
      "metadata": {
        "trusted": true,
        "id": "9VTfB3qTBLH2"
      },
      "cell_type": "code",
      "source": [
        "key = <apikey>\n",
        "endpoint = <endpoint>"
      ],
      "execution_count": null,
      "outputs": []
    },
    {
      "metadata": {
        "trusted": true,
        "id": "CDYikj8sBLH3"
      },
      "cell_type": "code",
      "source": [
        "from azure.ai.textanalytics import TextAnalyticsClient\n",
        "from azure.core.credentials import AzureKeyCredential\n",
        "\n",
        "cred = AzureKeyCredential(key)\n",
        "client = TextAnalyticsClient(endpoint=endpoint, credential=cred)"
      ],
      "execution_count": null,
      "outputs": []
    },
    {
      "cell_type": "code",
      "source": [
        "dir(client)"
      ],
      "metadata": {
        "colab": {
          "base_uri": "https://localhost:8080/"
        },
        "id": "pOnRxaECDZju",
        "outputId": "d9551049-b2f5-434d-e717-b50f8e1b6769"
      },
      "execution_count": null,
      "outputs": [
        {
          "output_type": "execute_result",
          "data": {
            "text/plain": [
              "['__class__',\n",
              " '__delattr__',\n",
              " '__dict__',\n",
              " '__dir__',\n",
              " '__doc__',\n",
              " '__enter__',\n",
              " '__eq__',\n",
              " '__exit__',\n",
              " '__format__',\n",
              " '__ge__',\n",
              " '__getattribute__',\n",
              " '__gt__',\n",
              " '__hash__',\n",
              " '__init__',\n",
              " '__init_subclass__',\n",
              " '__le__',\n",
              " '__lt__',\n",
              " '__module__',\n",
              " '__ne__',\n",
              " '__new__',\n",
              " '__reduce__',\n",
              " '__reduce_ex__',\n",
              " '__repr__',\n",
              " '__setattr__',\n",
              " '__sizeof__',\n",
              " '__str__',\n",
              " '__subclasshook__',\n",
              " '__weakref__',\n",
              " '_analyze_result_callback',\n",
              " '_api_version',\n",
              " '_client',\n",
              " '_default_country_hint',\n",
              " '_default_language',\n",
              " '_healthcare_result_callback',\n",
              " '_string_index_type_default',\n",
              " 'analyze_sentiment',\n",
              " 'begin_analyze_actions',\n",
              " 'begin_analyze_healthcare_entities',\n",
              " 'close',\n",
              " 'detect_language',\n",
              " 'extract_key_phrases',\n",
              " 'recognize_entities',\n",
              " 'recognize_linked_entities',\n",
              " 'recognize_pii_entities']"
            ]
          },
          "metadata": {},
          "execution_count": 6
        }
      ]
    },
    {
      "metadata": {
        "trusted": true,
        "id": "urtp8A9bBLH5"
      },
      "cell_type": "code",
      "source": [
        "# sentiment analysis\n",
        "sentence = ['No future is also good future.',' Taxes are great because jail is bad.' , ' Maggi contains insects and fish and so do candies and chocolate.']\n",
        "sentiment = client.analyze_sentiment(documents=sentence)"
      ],
      "execution_count": null,
      "outputs": []
    },
    {
      "metadata": {
        "trusted": true,
        "id": "cPL6Xl9hBLH7",
        "outputId": "3e3b5846-14e2-433c-c499-e53ef1cd7b0a",
        "colab": {
          "base_uri": "https://localhost:8080/"
        }
      },
      "cell_type": "code",
      "source": [
        "#sentiment = sent[0]\n",
        "for s in sentiment:\n",
        "    #print(dir(s))\n",
        "    print(s.confidence_scores)\n",
        "    print(s.id)\n",
        "    print(s.is_error)\n",
        "    print('*******************')\n",
        "    # Probability Distribution = 1 = p(p) + p(n) + n(neu)"
      ],
      "execution_count": null,
      "outputs": [
        {
          "output_type": "stream",
          "name": "stdout",
          "text": [
            "{'positive': 0.03, 'neutral': 0.02, 'negative': 0.94}\n",
            "0\n",
            "False\n",
            "*******************\n",
            "{'positive': 0.1, 'neutral': 0.01, 'negative': 0.89}\n",
            "1\n",
            "False\n",
            "*******************\n",
            "{'positive': 0.06, 'neutral': 0.86, 'negative': 0.09}\n",
            "2\n",
            "False\n",
            "*******************\n"
          ]
        }
      ]
    },
    {
      "cell_type": "code",
      "source": [
        ""
      ],
      "metadata": {
        "id": "aIh4qkkOKSdM"
      },
      "execution_count": null,
      "outputs": []
    },
    {
      "metadata": {
        "trusted": true,
        "colab": {
          "base_uri": "https://localhost:8080/",
          "height": 346
        },
        "id": "BiLOeCo5KS1S",
        "outputId": "11be4d56-8d48-4663-d2cc-49175f7ff680"
      },
      "cell_type": "code",
      "source": [
        "# begin_analyze_actions\n",
        "sentence = ['No future is also good future.',' Taxes are great because jail is bad.' , ' Maggi contains insects and fish and so do candies and chocolate.']\n",
        "analyze_actions = client.begin_analyze_actions(documents=sentence, actions=\"SentimentAnalysis\")"
      ],
      "execution_count": null,
      "outputs": [
        {
          "output_type": "error",
          "ename": "ValueError",
          "evalue": "ignored",
          "traceback": [
            "\u001b[0;31m---------------------------------------------------------------------------\u001b[0m",
            "\u001b[0;31mValueError\u001b[0m                                Traceback (most recent call last)",
            "\u001b[0;32m<ipython-input-9-43539a43dd0f>\u001b[0m in \u001b[0;36m<module>\u001b[0;34m()\u001b[0m\n\u001b[1;32m      1\u001b[0m \u001b[0;31m# begin_analyze_actions\u001b[0m\u001b[0;34m\u001b[0m\u001b[0;34m\u001b[0m\u001b[0;34m\u001b[0m\u001b[0m\n\u001b[1;32m      2\u001b[0m \u001b[0msentence\u001b[0m \u001b[0;34m=\u001b[0m \u001b[0;34m[\u001b[0m\u001b[0;34m'No future is also good future.'\u001b[0m\u001b[0;34m,\u001b[0m\u001b[0;34m' Taxes are great because jail is bad.'\u001b[0m \u001b[0;34m,\u001b[0m \u001b[0;34m' Maggi contains insects and fish and so do candies and chocolate.'\u001b[0m\u001b[0;34m]\u001b[0m\u001b[0;34m\u001b[0m\u001b[0;34m\u001b[0m\u001b[0m\n\u001b[0;32m----> 3\u001b[0;31m \u001b[0manalyze_actions\u001b[0m \u001b[0;34m=\u001b[0m \u001b[0mclient\u001b[0m\u001b[0;34m.\u001b[0m\u001b[0mbegin_analyze_actions\u001b[0m\u001b[0;34m(\u001b[0m\u001b[0mdocuments\u001b[0m\u001b[0;34m=\u001b[0m\u001b[0msentence\u001b[0m\u001b[0;34m,\u001b[0m \u001b[0mactions\u001b[0m\u001b[0;34m=\u001b[0m\u001b[0;34m\"Sentiment Analysis\"\u001b[0m\u001b[0;34m)\u001b[0m\u001b[0;34m\u001b[0m\u001b[0;34m\u001b[0m\u001b[0m\n\u001b[0m",
            "\u001b[0;32m/usr/local/lib/python3.7/dist-packages/azure/core/tracing/decorator.py\u001b[0m in \u001b[0;36mwrapper_use_tracer\u001b[0;34m(*args, **kwargs)\u001b[0m\n\u001b[1;32m     71\u001b[0m             \u001b[0mspan_impl_type\u001b[0m \u001b[0;34m=\u001b[0m \u001b[0msettings\u001b[0m\u001b[0;34m.\u001b[0m\u001b[0mtracing_implementation\u001b[0m\u001b[0;34m(\u001b[0m\u001b[0;34m)\u001b[0m\u001b[0;34m\u001b[0m\u001b[0;34m\u001b[0m\u001b[0m\n\u001b[1;32m     72\u001b[0m             \u001b[0;32mif\u001b[0m \u001b[0mspan_impl_type\u001b[0m \u001b[0;32mis\u001b[0m \u001b[0;32mNone\u001b[0m\u001b[0;34m:\u001b[0m\u001b[0;34m\u001b[0m\u001b[0;34m\u001b[0m\u001b[0m\n\u001b[0;32m---> 73\u001b[0;31m                 \u001b[0;32mreturn\u001b[0m \u001b[0mfunc\u001b[0m\u001b[0;34m(\u001b[0m\u001b[0;34m*\u001b[0m\u001b[0margs\u001b[0m\u001b[0;34m,\u001b[0m \u001b[0;34m**\u001b[0m\u001b[0mkwargs\u001b[0m\u001b[0;34m)\u001b[0m\u001b[0;34m\u001b[0m\u001b[0;34m\u001b[0m\u001b[0m\n\u001b[0m\u001b[1;32m     74\u001b[0m \u001b[0;34m\u001b[0m\u001b[0m\n\u001b[1;32m     75\u001b[0m             \u001b[0;31m# Merge span is parameter is set, but only if no explicit parent are passed\u001b[0m\u001b[0;34m\u001b[0m\u001b[0;34m\u001b[0m\u001b[0;34m\u001b[0m\u001b[0m\n",
            "\u001b[0;32m/usr/local/lib/python3.7/dist-packages/azure/ai/textanalytics/_text_analytics_client.py\u001b[0m in \u001b[0;36mbegin_analyze_actions\u001b[0;34m(self, documents, actions, **kwargs)\u001b[0m\n\u001b[1;32m    929\u001b[0m         \u001b[0mtask_order\u001b[0m \u001b[0;34m=\u001b[0m \u001b[0;34m[\u001b[0m\u001b[0m_determine_action_type\u001b[0m\u001b[0;34m(\u001b[0m\u001b[0maction\u001b[0m\u001b[0;34m)\u001b[0m \u001b[0;32mfor\u001b[0m \u001b[0maction\u001b[0m \u001b[0;32min\u001b[0m \u001b[0mactions\u001b[0m\u001b[0;34m]\u001b[0m\u001b[0;34m\u001b[0m\u001b[0;34m\u001b[0m\u001b[0m\n\u001b[1;32m    930\u001b[0m         \u001b[0;32mif\u001b[0m \u001b[0mlen\u001b[0m\u001b[0;34m(\u001b[0m\u001b[0mtask_order\u001b[0m\u001b[0;34m)\u001b[0m \u001b[0;34m!=\u001b[0m \u001b[0mlen\u001b[0m\u001b[0;34m(\u001b[0m\u001b[0mset\u001b[0m\u001b[0;34m(\u001b[0m\u001b[0mtask_order\u001b[0m\u001b[0;34m)\u001b[0m\u001b[0;34m)\u001b[0m\u001b[0;34m:\u001b[0m\u001b[0;34m\u001b[0m\u001b[0;34m\u001b[0m\u001b[0m\n\u001b[0;32m--> 931\u001b[0;31m             \u001b[0;32mraise\u001b[0m \u001b[0mValueError\u001b[0m\u001b[0;34m(\u001b[0m\u001b[0;34m\"Multiple of the same action is not currently supported.\"\u001b[0m\u001b[0;34m)\u001b[0m\u001b[0;34m\u001b[0m\u001b[0;34m\u001b[0m\u001b[0m\n\u001b[0m\u001b[1;32m    932\u001b[0m \u001b[0;34m\u001b[0m\u001b[0m\n\u001b[1;32m    933\u001b[0m         \u001b[0;32mtry\u001b[0m\u001b[0;34m:\u001b[0m\u001b[0;34m\u001b[0m\u001b[0;34m\u001b[0m\u001b[0m\n",
            "\u001b[0;31mValueError\u001b[0m: Multiple of the same action is not currently supported."
          ]
        }
      ]
    },
    {
      "metadata": {
        "trusted": true,
        "outputId": "d87faff6-81fb-4dec-97e9-b8fd939c04e1",
        "colab": {
          "base_uri": "https://localhost:8080/"
        },
        "id": "yPbzVBqnKS1T"
      },
      "cell_type": "code",
      "source": [
        "#analyze_actions = sent[0]\n",
        "print(analyze_actions)\n",
        "print('*******************')\n"
      ],
      "execution_count": null,
      "outputs": [
        {
          "output_type": "stream",
          "name": "stdout",
          "text": [
            "<azure.ai.textanalytics._lro.AnalyzeHealthcareEntitiesLROPoller object at 0x7f711f3be0d0>\n",
            "*******************\n"
          ]
        }
      ]
    },
    {
      "cell_type": "code",
      "source": [
        ""
      ],
      "metadata": {
        "id": "VmYh9X9nK7cH"
      },
      "execution_count": null,
      "outputs": []
    },
    {
      "metadata": {
        "trusted": true,
        "id": "fuRH1HGqLTfp"
      },
      "cell_type": "code",
      "source": [
        "# analyze_healthcare_entities\n",
        "sentence = ['No future is also good future.',' Taxes are great because jail is bad.' , ' Maggi contains insects and fish and so do candies and chocolate.']\n",
        "analyze_healthcare_entities = client.begin_analyze_healthcare_entities(documents=sentence)"
      ],
      "execution_count": null,
      "outputs": []
    },
    {
      "metadata": {
        "trusted": true,
        "outputId": "f21f6725-4a51-46ff-a4e8-625d2f586001",
        "colab": {
          "base_uri": "https://localhost:8080/"
        },
        "id": "SJhmC0kQLTfr"
      },
      "cell_type": "code",
      "source": [
        "print(dir(analyze_healthcare_entities))\n",
        "print(analyze_healthcare_entities)\n",
        "print('*******************')"
      ],
      "execution_count": null,
      "outputs": [
        {
          "output_type": "stream",
          "name": "stdout",
          "text": [
            "['__class__', '__class_getitem__', '__delattr__', '__dict__', '__dir__', '__doc__', '__eq__', '__format__', '__ge__', '__getattribute__', '__gt__', '__hash__', '__init__', '__init_subclass__', '__le__', '__lt__', '__module__', '__ne__', '__new__', '__orig_bases__', '__parameters__', '__reduce__', '__reduce_ex__', '__repr__', '__setattr__', '__sizeof__', '__slots__', '__str__', '__subclasshook__', '__weakref__', '_callbacks', '_done', '_exception', '_polling_method', '_start', '_thread', 'add_done_callback', 'cancel', 'continuation_token', 'created_on', 'done', 'expires_on', 'from_continuation_token', 'id', 'last_modified_on', 'polling_method', 'remove_done_callback', 'result', 'status', 'wait']\n",
            "<azure.ai.textanalytics._lro.AnalyzeHealthcareEntitiesLROPoller object at 0x7f711f2e2dd0>\n",
            "*******************\n"
          ]
        }
      ]
    },
    {
      "cell_type": "code",
      "source": [
        ""
      ],
      "metadata": {
        "id": "UtKQCzgjMdmR"
      },
      "execution_count": null,
      "outputs": []
    },
    {
      "metadata": {
        "trusted": true,
        "id": "3BEiB3BaMeRF"
      },
      "cell_type": "code",
      "source": [
        "# extract_key_phrases\n",
        "sentence = ['No future is also good future.',' Taxes are great because jail is bad.' , ' Maggi contains insects and fish and so do candies and chocolate.']\n",
        "extract_key_phrases_ = client.extract_key_phrases(documents=sentence)"
      ],
      "execution_count": null,
      "outputs": []
    },
    {
      "metadata": {
        "trusted": true,
        "outputId": "f82a69ef-99c8-4bef-f016-dec82d0ce64d",
        "colab": {
          "base_uri": "https://localhost:8080/"
        },
        "id": "RviJe3UoMeRG"
      },
      "cell_type": "code",
      "source": [
        "#extract_key_phrases = sent[0]\n",
        "for ent in extract_key_phrases_:\n",
        "    print(ent)\n",
        "    print('*******************')\n"
      ],
      "execution_count": null,
      "outputs": [
        {
          "output_type": "stream",
          "name": "stdout",
          "text": [
            "{'id': '0', 'key_phrases': ['good future'], 'warnings': [], 'statistics': None, 'is_error': False}\n",
            "*******************\n",
            "{'id': '1', 'key_phrases': ['Taxes', 'jail'], 'warnings': [], 'statistics': None, 'is_error': False}\n",
            "*******************\n",
            "{'id': '2', 'key_phrases': ['Maggi', 'insects', 'fish', 'candies', 'chocolate'], 'warnings': [], 'statistics': None, 'is_error': False}\n",
            "*******************\n"
          ]
        }
      ]
    },
    {
      "cell_type": "code",
      "source": [
        ""
      ],
      "metadata": {
        "id": "FYZplAp8NFHK"
      },
      "execution_count": null,
      "outputs": []
    },
    {
      "metadata": {
        "trusted": true,
        "id": "2kurFIpABLH8"
      },
      "cell_type": "code",
      "source": [
        "# Language Detection\n",
        "sentence = ['Como estais amigo?','Merci! quest que tse?', 'Du hast mesh!', 'No habla espanol']\n",
        "languages = client.detect_language(documents=sentence)"
      ],
      "execution_count": null,
      "outputs": []
    },
    {
      "metadata": {
        "trusted": true,
        "id": "I_sOpGwxBLH-",
        "outputId": "dbd9e367-ba93-4470-8d8a-c42375c5c015",
        "colab": {
          "base_uri": "https://localhost:8080/"
        }
      },
      "cell_type": "code",
      "source": [
        "for language in languages:\n",
        "    #print(dir(language))\n",
        "    print(language.get)\n",
        "    print(language.has_key)\n",
        "    print(language.id)\n",
        "    print(language.is_error)\n",
        "    print(language.primary_language)\n",
        "    print(language.items)\n",
        "    print(language.keys)\n",
        "    print(language.statistics)\n",
        "    print(language.update)\n",
        "    print(language.values)\n",
        "    print(language.warnings)\n",
        "    print(\"**************************************\")"
      ],
      "execution_count": null,
      "outputs": [
        {
          "output_type": "stream",
          "name": "stdout",
          "text": [
            "<bound method DictMixin.get of DetectLanguageResult(id=0, primary_language=DetectedLanguage(name=Spanish, iso6391_name=es, confidence_score=1.0), warnings=[], statistics=None, is_error=False)>\n",
            "<bound method DictMixin.has_key of DetectLanguageResult(id=0, primary_language=DetectedLanguage(name=Spanish, iso6391_name=es, confidence_score=1.0), warnings=[], statistics=None, is_error=False)>\n",
            "0\n",
            "False\n",
            "{'name': 'Spanish', 'iso6391_name': 'es', 'confidence_score': 1.0}\n",
            "<bound method DictMixin.items of DetectLanguageResult(id=0, primary_language=DetectedLanguage(name=Spanish, iso6391_name=es, confidence_score=1.0), warnings=[], statistics=None, is_error=False)>\n",
            "<bound method DictMixin.keys of DetectLanguageResult(id=0, primary_language=DetectedLanguage(name=Spanish, iso6391_name=es, confidence_score=1.0), warnings=[], statistics=None, is_error=False)>\n",
            "None\n",
            "<bound method DictMixin.update of DetectLanguageResult(id=0, primary_language=DetectedLanguage(name=Spanish, iso6391_name=es, confidence_score=1.0), warnings=[], statistics=None, is_error=False)>\n",
            "<bound method DictMixin.values of DetectLanguageResult(id=0, primary_language=DetectedLanguage(name=Spanish, iso6391_name=es, confidence_score=1.0), warnings=[], statistics=None, is_error=False)>\n",
            "[]\n",
            "**************************************\n",
            "<bound method DictMixin.get of DetectLanguageResult(id=1, primary_language=DetectedLanguage(name=English, iso6391_name=en, confidence_score=1.0), warnings=[], statistics=None, is_error=False)>\n",
            "<bound method DictMixin.has_key of DetectLanguageResult(id=1, primary_language=DetectedLanguage(name=English, iso6391_name=en, confidence_score=1.0), warnings=[], statistics=None, is_error=False)>\n",
            "1\n",
            "False\n",
            "{'name': 'English', 'iso6391_name': 'en', 'confidence_score': 1.0}\n",
            "<bound method DictMixin.items of DetectLanguageResult(id=1, primary_language=DetectedLanguage(name=English, iso6391_name=en, confidence_score=1.0), warnings=[], statistics=None, is_error=False)>\n",
            "<bound method DictMixin.keys of DetectLanguageResult(id=1, primary_language=DetectedLanguage(name=English, iso6391_name=en, confidence_score=1.0), warnings=[], statistics=None, is_error=False)>\n",
            "None\n",
            "<bound method DictMixin.update of DetectLanguageResult(id=1, primary_language=DetectedLanguage(name=English, iso6391_name=en, confidence_score=1.0), warnings=[], statistics=None, is_error=False)>\n",
            "<bound method DictMixin.values of DetectLanguageResult(id=1, primary_language=DetectedLanguage(name=English, iso6391_name=en, confidence_score=1.0), warnings=[], statistics=None, is_error=False)>\n",
            "[]\n",
            "**************************************\n",
            "<bound method DictMixin.get of DetectLanguageResult(id=2, primary_language=DetectedLanguage(name=German, iso6391_name=de, confidence_score=1.0), warnings=[], statistics=None, is_error=False)>\n",
            "<bound method DictMixin.has_key of DetectLanguageResult(id=2, primary_language=DetectedLanguage(name=German, iso6391_name=de, confidence_score=1.0), warnings=[], statistics=None, is_error=False)>\n",
            "2\n",
            "False\n",
            "{'name': 'German', 'iso6391_name': 'de', 'confidence_score': 1.0}\n",
            "<bound method DictMixin.items of DetectLanguageResult(id=2, primary_language=DetectedLanguage(name=German, iso6391_name=de, confidence_score=1.0), warnings=[], statistics=None, is_error=False)>\n",
            "<bound method DictMixin.keys of DetectLanguageResult(id=2, primary_language=DetectedLanguage(name=German, iso6391_name=de, confidence_score=1.0), warnings=[], statistics=None, is_error=False)>\n",
            "None\n",
            "<bound method DictMixin.update of DetectLanguageResult(id=2, primary_language=DetectedLanguage(name=German, iso6391_name=de, confidence_score=1.0), warnings=[], statistics=None, is_error=False)>\n",
            "<bound method DictMixin.values of DetectLanguageResult(id=2, primary_language=DetectedLanguage(name=German, iso6391_name=de, confidence_score=1.0), warnings=[], statistics=None, is_error=False)>\n",
            "[]\n",
            "**************************************\n",
            "<bound method DictMixin.get of DetectLanguageResult(id=3, primary_language=DetectedLanguage(name=Spanish, iso6391_name=es, confidence_score=1.0), warnings=[], statistics=None, is_error=False)>\n",
            "<bound method DictMixin.has_key of DetectLanguageResult(id=3, primary_language=DetectedLanguage(name=Spanish, iso6391_name=es, confidence_score=1.0), warnings=[], statistics=None, is_error=False)>\n",
            "3\n",
            "False\n",
            "{'name': 'Spanish', 'iso6391_name': 'es', 'confidence_score': 1.0}\n",
            "<bound method DictMixin.items of DetectLanguageResult(id=3, primary_language=DetectedLanguage(name=Spanish, iso6391_name=es, confidence_score=1.0), warnings=[], statistics=None, is_error=False)>\n",
            "<bound method DictMixin.keys of DetectLanguageResult(id=3, primary_language=DetectedLanguage(name=Spanish, iso6391_name=es, confidence_score=1.0), warnings=[], statistics=None, is_error=False)>\n",
            "None\n",
            "<bound method DictMixin.update of DetectLanguageResult(id=3, primary_language=DetectedLanguage(name=Spanish, iso6391_name=es, confidence_score=1.0), warnings=[], statistics=None, is_error=False)>\n",
            "<bound method DictMixin.values of DetectLanguageResult(id=3, primary_language=DetectedLanguage(name=Spanish, iso6391_name=es, confidence_score=1.0), warnings=[], statistics=None, is_error=False)>\n",
            "[]\n",
            "**************************************\n"
          ]
        }
      ]
    },
    {
      "cell_type": "code",
      "source": [
        ""
      ],
      "metadata": {
        "id": "UA5_i3ORLETN"
      },
      "execution_count": null,
      "outputs": []
    },
    {
      "metadata": {
        "trusted": true,
        "id": "_qC4A5REBLH_"
      },
      "cell_type": "code",
      "source": [
        "# Named Entity Recognition\n",
        "sentences = ['Bandar Seri Begawan is capital of Brunei','mantis shrimp can see colors we cant','Om Puri had a hollywood stint','The mountain and surf excel was really tall.', 'The Taj Mahal is not in The Himalayas']\n",
        "ents = client.recognize_entities(documents=sentences)"
      ],
      "execution_count": null,
      "outputs": []
    },
    {
      "metadata": {
        "trusted": true,
        "id": "Awbxrig4BLIB",
        "outputId": "6123b476-7a7e-4f44-f9a4-c32b236719eb",
        "colab": {
          "base_uri": "https://localhost:8080/"
        }
      },
      "cell_type": "code",
      "source": [
        "for ent in ents:\n",
        "    print(ent)\n",
        "    for ne in ent.entities:\n",
        "        #print(dir(ne))\n",
        "        print(ne.text)\n",
        "        print(ne.category)\n",
        "        print(ne.subcategory)\n",
        "        print(ne.confidence_score)\n",
        "        print(ne.offset)\n",
        "        print(ne.update)\n",
        "        print(ne.values)\n",
        "        print('****')"
      ],
      "execution_count": null,
      "outputs": [
        {
          "output_type": "stream",
          "name": "stdout",
          "text": [
            "{'id': '0', 'entities': [CategorizedEntity(text=Bandar Seri Begawan, category=Location, subcategory=GPE, length=19, offset=0, confidence_score=0.99), CategorizedEntity(text=Brunei, category=Location, subcategory=GPE, length=6, offset=34, confidence_score=1.0)], 'warnings': [], 'statistics': None, 'is_error': False}\n",
            "Bandar Seri Begawan\n",
            "Location\n",
            "GPE\n",
            "0.99\n",
            "0\n",
            "<bound method DictMixin.update of CategorizedEntity(text=Bandar Seri Begawan, category=Location, subcategory=GPE, length=19, offset=0, confidence_score=0.99)>\n",
            "<bound method DictMixin.values of CategorizedEntity(text=Bandar Seri Begawan, category=Location, subcategory=GPE, length=19, offset=0, confidence_score=0.99)>\n",
            "****\n",
            "Brunei\n",
            "Location\n",
            "GPE\n",
            "1.0\n",
            "34\n",
            "<bound method DictMixin.update of CategorizedEntity(text=Brunei, category=Location, subcategory=GPE, length=6, offset=34, confidence_score=1.0)>\n",
            "<bound method DictMixin.values of CategorizedEntity(text=Brunei, category=Location, subcategory=GPE, length=6, offset=34, confidence_score=1.0)>\n",
            "****\n",
            "{'id': '1', 'entities': [CategorizedEntity(text=shrimp, category=Product, subcategory=None, length=6, offset=7, confidence_score=0.62)], 'warnings': [], 'statistics': None, 'is_error': False}\n",
            "shrimp\n",
            "Product\n",
            "None\n",
            "0.62\n",
            "7\n",
            "<bound method DictMixin.update of CategorizedEntity(text=shrimp, category=Product, subcategory=None, length=6, offset=7, confidence_score=0.62)>\n",
            "<bound method DictMixin.values of CategorizedEntity(text=shrimp, category=Product, subcategory=None, length=6, offset=7, confidence_score=0.62)>\n",
            "****\n",
            "{'id': '2', 'entities': [CategorizedEntity(text=Om Puri, category=Person, subcategory=None, length=7, offset=0, confidence_score=1.0), CategorizedEntity(text=hollywood, category=Location, subcategory=None, length=9, offset=14, confidence_score=0.46)], 'warnings': [], 'statistics': None, 'is_error': False}\n",
            "Om Puri\n",
            "Person\n",
            "None\n",
            "1.0\n",
            "0\n",
            "<bound method DictMixin.update of CategorizedEntity(text=Om Puri, category=Person, subcategory=None, length=7, offset=0, confidence_score=1.0)>\n",
            "<bound method DictMixin.values of CategorizedEntity(text=Om Puri, category=Person, subcategory=None, length=7, offset=0, confidence_score=1.0)>\n",
            "****\n",
            "hollywood\n",
            "Location\n",
            "None\n",
            "0.46\n",
            "14\n",
            "<bound method DictMixin.update of CategorizedEntity(text=hollywood, category=Location, subcategory=None, length=9, offset=14, confidence_score=0.46)>\n",
            "<bound method DictMixin.values of CategorizedEntity(text=hollywood, category=Location, subcategory=None, length=9, offset=14, confidence_score=0.46)>\n",
            "****\n",
            "{'id': '3', 'entities': [CategorizedEntity(text=mountain, category=Location, subcategory=Geographical, length=8, offset=4, confidence_score=0.68), CategorizedEntity(text=excel, category=Product, subcategory=None, length=5, offset=22, confidence_score=0.37)], 'warnings': [], 'statistics': None, 'is_error': False}\n",
            "mountain\n",
            "Location\n",
            "Geographical\n",
            "0.68\n",
            "4\n",
            "<bound method DictMixin.update of CategorizedEntity(text=mountain, category=Location, subcategory=Geographical, length=8, offset=4, confidence_score=0.68)>\n",
            "<bound method DictMixin.values of CategorizedEntity(text=mountain, category=Location, subcategory=Geographical, length=8, offset=4, confidence_score=0.68)>\n",
            "****\n",
            "excel\n",
            "Product\n",
            "None\n",
            "0.37\n",
            "22\n",
            "<bound method DictMixin.update of CategorizedEntity(text=excel, category=Product, subcategory=None, length=5, offset=22, confidence_score=0.37)>\n",
            "<bound method DictMixin.values of CategorizedEntity(text=excel, category=Product, subcategory=None, length=5, offset=22, confidence_score=0.37)>\n",
            "****\n",
            "{'id': '4', 'entities': [CategorizedEntity(text=Taj Mahal, category=Location, subcategory=None, length=9, offset=4, confidence_score=0.93), CategorizedEntity(text=Himalayas, category=Location, subcategory=Geographical, length=9, offset=28, confidence_score=0.89)], 'warnings': [], 'statistics': None, 'is_error': False}\n",
            "Taj Mahal\n",
            "Location\n",
            "None\n",
            "0.93\n",
            "4\n",
            "<bound method DictMixin.update of CategorizedEntity(text=Taj Mahal, category=Location, subcategory=None, length=9, offset=4, confidence_score=0.93)>\n",
            "<bound method DictMixin.values of CategorizedEntity(text=Taj Mahal, category=Location, subcategory=None, length=9, offset=4, confidence_score=0.93)>\n",
            "****\n",
            "Himalayas\n",
            "Location\n",
            "Geographical\n",
            "0.89\n",
            "28\n",
            "<bound method DictMixin.update of CategorizedEntity(text=Himalayas, category=Location, subcategory=Geographical, length=9, offset=28, confidence_score=0.89)>\n",
            "<bound method DictMixin.values of CategorizedEntity(text=Himalayas, category=Location, subcategory=Geographical, length=9, offset=28, confidence_score=0.89)>\n",
            "****\n"
          ]
        }
      ]
    },
    {
      "cell_type": "code",
      "source": [
        ""
      ],
      "metadata": {
        "id": "4bO9fBgDLAs4"
      },
      "execution_count": null,
      "outputs": []
    },
    {
      "cell_type": "code",
      "source": [
        "linked_ents = client.recognize_linked_entities(documents=sentences)\n",
        "for ent in linked_ents:\n",
        "    print(ent)\n",
        "    for ne in ent.entities:\n",
        "        #print(dir(ne))\n",
        "        print(ne.bing_entity_search_api_id)\n",
        "        print(ne.data_source)\n",
        "        print(ne.data_source_entity_id)\n",
        "        print(ne.get)\n",
        "        print(ne.has_key)\n",
        "        print(ne.items)\n",
        "        print(ne.keys)\n",
        "        print(ne.language)\n",
        "        print(ne.matches)\n",
        "        print(ne.name)\n",
        "        print(ne.update)\n",
        "        print(ne.url)\n",
        "        print(ne.values)\n",
        "        print('****')"
      ],
      "metadata": {
        "colab": {
          "base_uri": "https://localhost:8080/"
        },
        "id": "TmRcunveFrOL",
        "outputId": "5c1277de-dee6-48d3-f37b-04195a0b9620"
      },
      "execution_count": null,
      "outputs": [
        {
          "output_type": "stream",
          "name": "stdout",
          "text": [
            "{'id': '0', 'entities': [LinkedEntity(name=Bandar Seri Begawan, matches=[LinkedEntityMatch(confidence_score=0.91, text=Bandar Seri Begawan, length=19, offset=0)], language=en, data_source_entity_id=Bandar Seri Begawan, url=https://en.wikipedia.org/wiki/Bandar_Seri_Begawan, data_source=Wikipedia, bing_entity_search_api_id=a0c655b6-95c7-fe5a-2cf3-39ebfad16464), LinkedEntity(name=Brunei, matches=[LinkedEntityMatch(confidence_score=0.18, text=Brunei, length=6, offset=34)], language=en, data_source_entity_id=Brunei, url=https://en.wikipedia.org/wiki/Brunei, data_source=Wikipedia, bing_entity_search_api_id=dde316d9-cf10-398d-ffd9-1c4cd798a523)], 'warnings': [], 'statistics': None, 'is_error': False}\n",
            "a0c655b6-95c7-fe5a-2cf3-39ebfad16464\n",
            "Wikipedia\n",
            "Bandar Seri Begawan\n",
            "<bound method DictMixin.get of LinkedEntity(name=Bandar Seri Begawan, matches=[LinkedEntityMatch(confidence_score=0.91, text=Bandar Seri Begawan, length=19, offset=0)], language=en, data_source_entity_id=Bandar Seri Begawan, url=https://en.wikipedia.org/wiki/Bandar_Seri_Begawan, data_source=Wikipedia, bing_entity_search_api_id=a0c655b6-95c7-fe5a-2cf3-39ebfad16464)>\n",
            "<bound method DictMixin.has_key of LinkedEntity(name=Bandar Seri Begawan, matches=[LinkedEntityMatch(confidence_score=0.91, text=Bandar Seri Begawan, length=19, offset=0)], language=en, data_source_entity_id=Bandar Seri Begawan, url=https://en.wikipedia.org/wiki/Bandar_Seri_Begawan, data_source=Wikipedia, bing_entity_search_api_id=a0c655b6-95c7-fe5a-2cf3-39ebfad16464)>\n",
            "<bound method DictMixin.items of LinkedEntity(name=Bandar Seri Begawan, matches=[LinkedEntityMatch(confidence_score=0.91, text=Bandar Seri Begawan, length=19, offset=0)], language=en, data_source_entity_id=Bandar Seri Begawan, url=https://en.wikipedia.org/wiki/Bandar_Seri_Begawan, data_source=Wikipedia, bing_entity_search_api_id=a0c655b6-95c7-fe5a-2cf3-39ebfad16464)>\n",
            "<bound method DictMixin.keys of LinkedEntity(name=Bandar Seri Begawan, matches=[LinkedEntityMatch(confidence_score=0.91, text=Bandar Seri Begawan, length=19, offset=0)], language=en, data_source_entity_id=Bandar Seri Begawan, url=https://en.wikipedia.org/wiki/Bandar_Seri_Begawan, data_source=Wikipedia, bing_entity_search_api_id=a0c655b6-95c7-fe5a-2cf3-39ebfad16464)>\n",
            "en\n",
            "[LinkedEntityMatch(confidence_score=0.91, text=Bandar Seri Begawan, length=19, offset=0)]\n",
            "Bandar Seri Begawan\n",
            "<bound method DictMixin.update of LinkedEntity(name=Bandar Seri Begawan, matches=[LinkedEntityMatch(confidence_score=0.91, text=Bandar Seri Begawan, length=19, offset=0)], language=en, data_source_entity_id=Bandar Seri Begawan, url=https://en.wikipedia.org/wiki/Bandar_Seri_Begawan, data_source=Wikipedia, bing_entity_search_api_id=a0c655b6-95c7-fe5a-2cf3-39ebfad16464)>\n",
            "https://en.wikipedia.org/wiki/Bandar_Seri_Begawan\n",
            "<bound method DictMixin.values of LinkedEntity(name=Bandar Seri Begawan, matches=[LinkedEntityMatch(confidence_score=0.91, text=Bandar Seri Begawan, length=19, offset=0)], language=en, data_source_entity_id=Bandar Seri Begawan, url=https://en.wikipedia.org/wiki/Bandar_Seri_Begawan, data_source=Wikipedia, bing_entity_search_api_id=a0c655b6-95c7-fe5a-2cf3-39ebfad16464)>\n",
            "****\n",
            "dde316d9-cf10-398d-ffd9-1c4cd798a523\n",
            "Wikipedia\n",
            "Brunei\n",
            "<bound method DictMixin.get of LinkedEntity(name=Brunei, matches=[LinkedEntityMatch(confidence_score=0.18, text=Brunei, length=6, offset=34)], language=en, data_source_entity_id=Brunei, url=https://en.wikipedia.org/wiki/Brunei, data_source=Wikipedia, bing_entity_search_api_id=dde316d9-cf10-398d-ffd9-1c4cd798a523)>\n",
            "<bound method DictMixin.has_key of LinkedEntity(name=Brunei, matches=[LinkedEntityMatch(confidence_score=0.18, text=Brunei, length=6, offset=34)], language=en, data_source_entity_id=Brunei, url=https://en.wikipedia.org/wiki/Brunei, data_source=Wikipedia, bing_entity_search_api_id=dde316d9-cf10-398d-ffd9-1c4cd798a523)>\n",
            "<bound method DictMixin.items of LinkedEntity(name=Brunei, matches=[LinkedEntityMatch(confidence_score=0.18, text=Brunei, length=6, offset=34)], language=en, data_source_entity_id=Brunei, url=https://en.wikipedia.org/wiki/Brunei, data_source=Wikipedia, bing_entity_search_api_id=dde316d9-cf10-398d-ffd9-1c4cd798a523)>\n",
            "<bound method DictMixin.keys of LinkedEntity(name=Brunei, matches=[LinkedEntityMatch(confidence_score=0.18, text=Brunei, length=6, offset=34)], language=en, data_source_entity_id=Brunei, url=https://en.wikipedia.org/wiki/Brunei, data_source=Wikipedia, bing_entity_search_api_id=dde316d9-cf10-398d-ffd9-1c4cd798a523)>\n",
            "en\n",
            "[LinkedEntityMatch(confidence_score=0.18, text=Brunei, length=6, offset=34)]\n",
            "Brunei\n",
            "<bound method DictMixin.update of LinkedEntity(name=Brunei, matches=[LinkedEntityMatch(confidence_score=0.18, text=Brunei, length=6, offset=34)], language=en, data_source_entity_id=Brunei, url=https://en.wikipedia.org/wiki/Brunei, data_source=Wikipedia, bing_entity_search_api_id=dde316d9-cf10-398d-ffd9-1c4cd798a523)>\n",
            "https://en.wikipedia.org/wiki/Brunei\n",
            "<bound method DictMixin.values of LinkedEntity(name=Brunei, matches=[LinkedEntityMatch(confidence_score=0.18, text=Brunei, length=6, offset=34)], language=en, data_source_entity_id=Brunei, url=https://en.wikipedia.org/wiki/Brunei, data_source=Wikipedia, bing_entity_search_api_id=dde316d9-cf10-398d-ffd9-1c4cd798a523)>\n",
            "****\n",
            "{'id': '1', 'entities': [], 'warnings': [], 'statistics': None, 'is_error': False}\n",
            "{'id': '2', 'entities': [LinkedEntity(name=Om Puri, matches=[LinkedEntityMatch(confidence_score=0.76, text=Om Puri, length=7, offset=0)], language=en, data_source_entity_id=Om Puri, url=https://en.wikipedia.org/wiki/Om_Puri, data_source=Wikipedia, bing_entity_search_api_id=6a87538b-25db-1659-bcef-f2f4d0f51ab8)], 'warnings': [], 'statistics': None, 'is_error': False}\n",
            "6a87538b-25db-1659-bcef-f2f4d0f51ab8\n",
            "Wikipedia\n",
            "Om Puri\n",
            "<bound method DictMixin.get of LinkedEntity(name=Om Puri, matches=[LinkedEntityMatch(confidence_score=0.76, text=Om Puri, length=7, offset=0)], language=en, data_source_entity_id=Om Puri, url=https://en.wikipedia.org/wiki/Om_Puri, data_source=Wikipedia, bing_entity_search_api_id=6a87538b-25db-1659-bcef-f2f4d0f51ab8)>\n",
            "<bound method DictMixin.has_key of LinkedEntity(name=Om Puri, matches=[LinkedEntityMatch(confidence_score=0.76, text=Om Puri, length=7, offset=0)], language=en, data_source_entity_id=Om Puri, url=https://en.wikipedia.org/wiki/Om_Puri, data_source=Wikipedia, bing_entity_search_api_id=6a87538b-25db-1659-bcef-f2f4d0f51ab8)>\n",
            "<bound method DictMixin.items of LinkedEntity(name=Om Puri, matches=[LinkedEntityMatch(confidence_score=0.76, text=Om Puri, length=7, offset=0)], language=en, data_source_entity_id=Om Puri, url=https://en.wikipedia.org/wiki/Om_Puri, data_source=Wikipedia, bing_entity_search_api_id=6a87538b-25db-1659-bcef-f2f4d0f51ab8)>\n",
            "<bound method DictMixin.keys of LinkedEntity(name=Om Puri, matches=[LinkedEntityMatch(confidence_score=0.76, text=Om Puri, length=7, offset=0)], language=en, data_source_entity_id=Om Puri, url=https://en.wikipedia.org/wiki/Om_Puri, data_source=Wikipedia, bing_entity_search_api_id=6a87538b-25db-1659-bcef-f2f4d0f51ab8)>\n",
            "en\n",
            "[LinkedEntityMatch(confidence_score=0.76, text=Om Puri, length=7, offset=0)]\n",
            "Om Puri\n",
            "<bound method DictMixin.update of LinkedEntity(name=Om Puri, matches=[LinkedEntityMatch(confidence_score=0.76, text=Om Puri, length=7, offset=0)], language=en, data_source_entity_id=Om Puri, url=https://en.wikipedia.org/wiki/Om_Puri, data_source=Wikipedia, bing_entity_search_api_id=6a87538b-25db-1659-bcef-f2f4d0f51ab8)>\n",
            "https://en.wikipedia.org/wiki/Om_Puri\n",
            "<bound method DictMixin.values of LinkedEntity(name=Om Puri, matches=[LinkedEntityMatch(confidence_score=0.76, text=Om Puri, length=7, offset=0)], language=en, data_source_entity_id=Om Puri, url=https://en.wikipedia.org/wiki/Om_Puri, data_source=Wikipedia, bing_entity_search_api_id=6a87538b-25db-1659-bcef-f2f4d0f51ab8)>\n",
            "****\n",
            "{'id': '3', 'entities': [], 'warnings': [], 'statistics': None, 'is_error': False}\n",
            "{'id': '4', 'entities': [LinkedEntity(name=Taj Mahal, matches=[LinkedEntityMatch(confidence_score=0.79, text=The Taj Mahal, length=13, offset=0)], language=en, data_source_entity_id=Taj Mahal, url=https://en.wikipedia.org/wiki/Taj_Mahal, data_source=Wikipedia, bing_entity_search_api_id=20d90735-a174-7396-fdf8-0ad298f90bd5), LinkedEntity(name=Himalayas, matches=[LinkedEntityMatch(confidence_score=0.39, text=The Himalayas, length=13, offset=24)], language=en, data_source_entity_id=Himalayas, url=https://en.wikipedia.org/wiki/Himalayas, data_source=Wikipedia, bing_entity_search_api_id=63ac0c92-1e33-f127-a5d7-bbac0908605c)], 'warnings': [], 'statistics': None, 'is_error': False}\n",
            "20d90735-a174-7396-fdf8-0ad298f90bd5\n",
            "Wikipedia\n",
            "Taj Mahal\n",
            "<bound method DictMixin.get of LinkedEntity(name=Taj Mahal, matches=[LinkedEntityMatch(confidence_score=0.79, text=The Taj Mahal, length=13, offset=0)], language=en, data_source_entity_id=Taj Mahal, url=https://en.wikipedia.org/wiki/Taj_Mahal, data_source=Wikipedia, bing_entity_search_api_id=20d90735-a174-7396-fdf8-0ad298f90bd5)>\n",
            "<bound method DictMixin.has_key of LinkedEntity(name=Taj Mahal, matches=[LinkedEntityMatch(confidence_score=0.79, text=The Taj Mahal, length=13, offset=0)], language=en, data_source_entity_id=Taj Mahal, url=https://en.wikipedia.org/wiki/Taj_Mahal, data_source=Wikipedia, bing_entity_search_api_id=20d90735-a174-7396-fdf8-0ad298f90bd5)>\n",
            "<bound method DictMixin.items of LinkedEntity(name=Taj Mahal, matches=[LinkedEntityMatch(confidence_score=0.79, text=The Taj Mahal, length=13, offset=0)], language=en, data_source_entity_id=Taj Mahal, url=https://en.wikipedia.org/wiki/Taj_Mahal, data_source=Wikipedia, bing_entity_search_api_id=20d90735-a174-7396-fdf8-0ad298f90bd5)>\n",
            "<bound method DictMixin.keys of LinkedEntity(name=Taj Mahal, matches=[LinkedEntityMatch(confidence_score=0.79, text=The Taj Mahal, length=13, offset=0)], language=en, data_source_entity_id=Taj Mahal, url=https://en.wikipedia.org/wiki/Taj_Mahal, data_source=Wikipedia, bing_entity_search_api_id=20d90735-a174-7396-fdf8-0ad298f90bd5)>\n",
            "en\n",
            "[LinkedEntityMatch(confidence_score=0.79, text=The Taj Mahal, length=13, offset=0)]\n",
            "Taj Mahal\n",
            "<bound method DictMixin.update of LinkedEntity(name=Taj Mahal, matches=[LinkedEntityMatch(confidence_score=0.79, text=The Taj Mahal, length=13, offset=0)], language=en, data_source_entity_id=Taj Mahal, url=https://en.wikipedia.org/wiki/Taj_Mahal, data_source=Wikipedia, bing_entity_search_api_id=20d90735-a174-7396-fdf8-0ad298f90bd5)>\n",
            "https://en.wikipedia.org/wiki/Taj_Mahal\n",
            "<bound method DictMixin.values of LinkedEntity(name=Taj Mahal, matches=[LinkedEntityMatch(confidence_score=0.79, text=The Taj Mahal, length=13, offset=0)], language=en, data_source_entity_id=Taj Mahal, url=https://en.wikipedia.org/wiki/Taj_Mahal, data_source=Wikipedia, bing_entity_search_api_id=20d90735-a174-7396-fdf8-0ad298f90bd5)>\n",
            "****\n",
            "63ac0c92-1e33-f127-a5d7-bbac0908605c\n",
            "Wikipedia\n",
            "Himalayas\n",
            "<bound method DictMixin.get of LinkedEntity(name=Himalayas, matches=[LinkedEntityMatch(confidence_score=0.39, text=The Himalayas, length=13, offset=24)], language=en, data_source_entity_id=Himalayas, url=https://en.wikipedia.org/wiki/Himalayas, data_source=Wikipedia, bing_entity_search_api_id=63ac0c92-1e33-f127-a5d7-bbac0908605c)>\n",
            "<bound method DictMixin.has_key of LinkedEntity(name=Himalayas, matches=[LinkedEntityMatch(confidence_score=0.39, text=The Himalayas, length=13, offset=24)], language=en, data_source_entity_id=Himalayas, url=https://en.wikipedia.org/wiki/Himalayas, data_source=Wikipedia, bing_entity_search_api_id=63ac0c92-1e33-f127-a5d7-bbac0908605c)>\n",
            "<bound method DictMixin.items of LinkedEntity(name=Himalayas, matches=[LinkedEntityMatch(confidence_score=0.39, text=The Himalayas, length=13, offset=24)], language=en, data_source_entity_id=Himalayas, url=https://en.wikipedia.org/wiki/Himalayas, data_source=Wikipedia, bing_entity_search_api_id=63ac0c92-1e33-f127-a5d7-bbac0908605c)>\n",
            "<bound method DictMixin.keys of LinkedEntity(name=Himalayas, matches=[LinkedEntityMatch(confidence_score=0.39, text=The Himalayas, length=13, offset=24)], language=en, data_source_entity_id=Himalayas, url=https://en.wikipedia.org/wiki/Himalayas, data_source=Wikipedia, bing_entity_search_api_id=63ac0c92-1e33-f127-a5d7-bbac0908605c)>\n",
            "en\n",
            "[LinkedEntityMatch(confidence_score=0.39, text=The Himalayas, length=13, offset=24)]\n",
            "Himalayas\n",
            "<bound method DictMixin.update of LinkedEntity(name=Himalayas, matches=[LinkedEntityMatch(confidence_score=0.39, text=The Himalayas, length=13, offset=24)], language=en, data_source_entity_id=Himalayas, url=https://en.wikipedia.org/wiki/Himalayas, data_source=Wikipedia, bing_entity_search_api_id=63ac0c92-1e33-f127-a5d7-bbac0908605c)>\n",
            "https://en.wikipedia.org/wiki/Himalayas\n",
            "<bound method DictMixin.values of LinkedEntity(name=Himalayas, matches=[LinkedEntityMatch(confidence_score=0.39, text=The Himalayas, length=13, offset=24)], language=en, data_source_entity_id=Himalayas, url=https://en.wikipedia.org/wiki/Himalayas, data_source=Wikipedia, bing_entity_search_api_id=63ac0c92-1e33-f127-a5d7-bbac0908605c)>\n",
            "****\n"
          ]
        }
      ]
    },
    {
      "cell_type": "code",
      "source": [
        ""
      ],
      "metadata": {
        "id": "jG7IZsG8LB1k"
      },
      "execution_count": null,
      "outputs": []
    },
    {
      "cell_type": "code",
      "source": [
        "pii_ents = client.recognize_pii_entities(documents=sentences)\n",
        "for ent in pii_ents:\n",
        "    print(ent)\n",
        "    for ne in ent.entities:\n",
        "        #print(dir(ne))\n",
        "        print(ne.category)\n",
        "        print(ne.get)\n",
        "        print(ne.has_key)\n",
        "        print(ne.items)\n",
        "        print(ne.keys)\n",
        "        print(ne.length)\n",
        "        print(ne.offset)\n",
        "        print(ne.update)\n",
        "        print(ne.subcategory)\n",
        "        print(ne.text)\n",
        "        print(ne.values)\n",
        "        print(ne.confidence_score)\n",
        "        print('****')"
      ],
      "metadata": {
        "colab": {
          "base_uri": "https://localhost:8080/"
        },
        "id": "mFwUmtsEFYpN",
        "outputId": "23155d74-9fe4-4ef3-f74b-d4c8973a8677"
      },
      "execution_count": null,
      "outputs": [
        {
          "output_type": "stream",
          "name": "stdout",
          "text": [
            "{'id': '0', 'entities': [], 'redacted_text': 'Bandar Seri Begawan is capital of Brunei', 'warnings': [], 'statistics': None, 'is_error': False}\n",
            "{'id': '1', 'entities': [], 'redacted_text': 'mantis shrimp can see colors we cant', 'warnings': [], 'statistics': None, 'is_error': False}\n",
            "{'id': '2', 'entities': [PiiEntity(text=Om Puri, category=Person, subcategory=None, length=7, offset=0, confidence_score=0.91)], 'redacted_text': '******* had a hollywood stint', 'warnings': [], 'statistics': None, 'is_error': False}\n",
            "Person\n",
            "<bound method DictMixin.get of PiiEntity(text=Om Puri, category=Person, subcategory=None, length=7, offset=0, confidence_score=0.91)>\n",
            "<bound method DictMixin.has_key of PiiEntity(text=Om Puri, category=Person, subcategory=None, length=7, offset=0, confidence_score=0.91)>\n",
            "<bound method DictMixin.items of PiiEntity(text=Om Puri, category=Person, subcategory=None, length=7, offset=0, confidence_score=0.91)>\n",
            "<bound method DictMixin.keys of PiiEntity(text=Om Puri, category=Person, subcategory=None, length=7, offset=0, confidence_score=0.91)>\n",
            "7\n",
            "0\n",
            "<bound method DictMixin.update of PiiEntity(text=Om Puri, category=Person, subcategory=None, length=7, offset=0, confidence_score=0.91)>\n",
            "None\n",
            "Om Puri\n",
            "<bound method DictMixin.values of PiiEntity(text=Om Puri, category=Person, subcategory=None, length=7, offset=0, confidence_score=0.91)>\n",
            "0.91\n",
            "****\n",
            "{'id': '3', 'entities': [], 'redacted_text': 'The mountain and surf excel was really tall.', 'warnings': [], 'statistics': None, 'is_error': False}\n",
            "{'id': '4', 'entities': [], 'redacted_text': 'The Taj Mahal is not in The Himalayas', 'warnings': [], 'statistics': None, 'is_error': False}\n"
          ]
        }
      ]
    },
    {
      "metadata": {
        "trusted": true,
        "id": "N3DUwvOUBLID"
      },
      "cell_type": "code",
      "source": [
        ""
      ],
      "execution_count": null,
      "outputs": []
    },
    {
      "metadata": {
        "trusted": true,
        "id": "Od181Fi-Rlac"
      },
      "cell_type": "code",
      "source": [
        "# close\n",
        "client.close()"
      ],
      "execution_count": null,
      "outputs": []
    }
  ],
  "metadata": {
    "kernelspec": {
      "name": "python36",
      "display_name": "Python 3.6",
      "language": "python"
    },
    "language_info": {
      "mimetype": "text/x-python",
      "nbconvert_exporter": "python",
      "name": "python",
      "pygments_lexer": "ipython3",
      "version": "3.6.6",
      "file_extension": ".py",
      "codemirror_mode": {
        "version": 3,
        "name": "ipython"
      }
    },
    "colab": {
      "name": "TextAnalytics_azure_ai.ipynb",
      "provenance": [],
      "collapsed_sections": [],
      "include_colab_link": true
    }
  },
  "nbformat": 4,
  "nbformat_minor": 0
}