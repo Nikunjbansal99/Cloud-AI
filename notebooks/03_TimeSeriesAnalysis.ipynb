{
  "nbformat": 4,
  "nbformat_minor": 0,
  "metadata": {
    "colab": {
      "name": "03 TimeSeriesAnalysis.ipynb",
      "provenance": [],
      "collapsed_sections": [],
      "include_colab_link": true
    },
    "kernelspec": {
      "name": "python3",
      "display_name": "Python 3"
    }
  },
  "cells": [
    {
      "cell_type": "markdown",
      "metadata": {
        "id": "view-in-github",
        "colab_type": "text"
      },
      "source": [
        "<a href=\"https://colab.research.google.com/github/a-forty-two/COG_GN22CDBDS001_MARCH_22/blob/main/03_TimeSeriesAnalysis.ipynb\" target=\"_parent\"><img src=\"https://colab.research.google.com/assets/colab-badge.svg\" alt=\"Open In Colab\"/></a>"
      ]
    },
    {
      "cell_type": "code",
      "metadata": {
        "id": "K4aIct04lCFU",
        "outputId": "1f36c6ee-40d1-4a5c-b805-02fcfb86a9d6",
        "colab": {
          "base_uri": "https://localhost:8080/",
          "height": 35
        }
      },
      "source": [
        "# Choosing right model or algo \n",
        "# https://scikit-learn.org/stable/tutorial/machine_learning_map/index.html\n",
        "\n",
        "# data from https://community.tableau.com/docs/DOC-1236\n",
        "!ls"
      ],
      "execution_count": null,
      "outputs": [
        {
          "output_type": "stream",
          "text": [
            " sample_data  'Sample - Superstore (1).xls'\n"
          ],
          "name": "stdout"
        }
      ]
    },
    {
      "cell_type": "code",
      "metadata": {
        "id": "CGtzNkkWlbD4",
        "outputId": "2f33b980-a9de-47e4-f69d-3b7ce2649203",
        "colab": {
          "base_uri": "https://localhost:8080/",
          "height": 104
        }
      },
      "source": [
        "import pandas as pd\n",
        "df = pd.read_excel('Sample - Superstore (1).xls')\n",
        "df.head()\n",
        "df.columns"
      ],
      "execution_count": null,
      "outputs": [
        {
          "output_type": "execute_result",
          "data": {
            "text/plain": [
              "Index(['Row ID', 'Order ID', 'Order Date', 'Ship Date', 'Ship Mode',\n",
              "       'Customer ID', 'Customer Name', 'Segment', 'Country', 'City', 'State',\n",
              "       'Postal Code', 'Region', 'Product ID', 'Category', 'Sub-Category',\n",
              "       'Product Name', 'Sales', 'Quantity', 'Discount', 'Profit'],\n",
              "      dtype='object')"
            ]
          },
          "metadata": {
            "tags": []
          },
          "execution_count": 1
        }
      ]
    },
    {
      "cell_type": "code",
      "metadata": {
        "id": "Pwr0PxgdmSab"
      },
      "source": [
        "import warnings\n",
        "import itertools\n",
        "import numpy as np\n",
        "import statsmodels.api as sm\n",
        "import matplotlib.pyplot as plt\n",
        "import matplotlib\n",
        "%matplotlib inline\n",
        "# for production use, we may want to supress the warning\n",
        "# NEVER for dev-> ALL WARNINGS must be taken into account and fix whatever can be fixed\n",
        "warnings.filterwarnings(\"ignore\")\n",
        "# That any code that may throw warning would have inherited the Exceptions and warnings classes\n",
        "# If some package is throwing warning or exception without using the right channel, then \n",
        "# the warning will not be supressed"
      ],
      "execution_count": null,
      "outputs": []
    },
    {
      "cell_type": "code",
      "metadata": {
        "id": "5l6xcpsuLmSv",
        "outputId": "d6a4698a-ed0c-4898-a709-39e750b3d156",
        "colab": {
          "base_uri": "https://localhost:8080/",
          "height": 269
        }
      },
      "source": [
        "df.head(2)\n",
        "# WHENEVER you're into TS analysis -> TIMESTAMPS \n",
        "# what if you don't have time stamps but data is arranged in either time-ascending or descending order,\n",
        "# you can always take a reference timeline -> 1990-2000 \n",
        "# TIMESTAMP should work like an INDEX and not input dataset \n",
        "# TSA -> Univariate and multivariate \n",
        "# ONE FEATURE is going to fluctuate w.r.t. TIME \n",
        "\n",
        "# TIMESTAMPS -> Order Date and Ship Date \n",
        "# Identify all indexes or seemingly indexes and REMOVE THEM -> NEW DF -> don't mutate the old DF\n",
        "# Identify ALL categorical DATA -> in TSA , categories help us FILTER the data \n",
        "# If there categories like COuntry -> Then i could make individual TSA predictions for each country\n",
        "\n"
      ],
      "execution_count": null,
      "outputs": [
        {
          "output_type": "execute_result",
          "data": {
            "text/html": [
              "<div>\n",
              "<style scoped>\n",
              "    .dataframe tbody tr th:only-of-type {\n",
              "        vertical-align: middle;\n",
              "    }\n",
              "\n",
              "    .dataframe tbody tr th {\n",
              "        vertical-align: top;\n",
              "    }\n",
              "\n",
              "    .dataframe thead th {\n",
              "        text-align: right;\n",
              "    }\n",
              "</style>\n",
              "<table border=\"1\" class=\"dataframe\">\n",
              "  <thead>\n",
              "    <tr style=\"text-align: right;\">\n",
              "      <th></th>\n",
              "      <th>Row ID</th>\n",
              "      <th>Order ID</th>\n",
              "      <th>Order Date</th>\n",
              "      <th>Ship Date</th>\n",
              "      <th>Ship Mode</th>\n",
              "      <th>Customer ID</th>\n",
              "      <th>Customer Name</th>\n",
              "      <th>Segment</th>\n",
              "      <th>Country</th>\n",
              "      <th>City</th>\n",
              "      <th>State</th>\n",
              "      <th>Postal Code</th>\n",
              "      <th>Region</th>\n",
              "      <th>Product ID</th>\n",
              "      <th>Category</th>\n",
              "      <th>Sub-Category</th>\n",
              "      <th>Product Name</th>\n",
              "      <th>Sales</th>\n",
              "      <th>Quantity</th>\n",
              "      <th>Discount</th>\n",
              "      <th>Profit</th>\n",
              "    </tr>\n",
              "  </thead>\n",
              "  <tbody>\n",
              "    <tr>\n",
              "      <th>0</th>\n",
              "      <td>1</td>\n",
              "      <td>CA-2016-152156</td>\n",
              "      <td>2016-11-08</td>\n",
              "      <td>2016-11-11</td>\n",
              "      <td>Second Class</td>\n",
              "      <td>CG-12520</td>\n",
              "      <td>Claire Gute</td>\n",
              "      <td>Consumer</td>\n",
              "      <td>United States</td>\n",
              "      <td>Henderson</td>\n",
              "      <td>Kentucky</td>\n",
              "      <td>42420</td>\n",
              "      <td>South</td>\n",
              "      <td>FUR-BO-10001798</td>\n",
              "      <td>Furniture</td>\n",
              "      <td>Bookcases</td>\n",
              "      <td>Bush Somerset Collection Bookcase</td>\n",
              "      <td>261.96</td>\n",
              "      <td>2</td>\n",
              "      <td>0.0</td>\n",
              "      <td>41.9136</td>\n",
              "    </tr>\n",
              "    <tr>\n",
              "      <th>1</th>\n",
              "      <td>2</td>\n",
              "      <td>CA-2016-152156</td>\n",
              "      <td>2016-11-08</td>\n",
              "      <td>2016-11-11</td>\n",
              "      <td>Second Class</td>\n",
              "      <td>CG-12520</td>\n",
              "      <td>Claire Gute</td>\n",
              "      <td>Consumer</td>\n",
              "      <td>United States</td>\n",
              "      <td>Henderson</td>\n",
              "      <td>Kentucky</td>\n",
              "      <td>42420</td>\n",
              "      <td>South</td>\n",
              "      <td>FUR-CH-10000454</td>\n",
              "      <td>Furniture</td>\n",
              "      <td>Chairs</td>\n",
              "      <td>Hon Deluxe Fabric Upholstered Stacking Chairs,...</td>\n",
              "      <td>731.94</td>\n",
              "      <td>3</td>\n",
              "      <td>0.0</td>\n",
              "      <td>219.5820</td>\n",
              "    </tr>\n",
              "  </tbody>\n",
              "</table>\n",
              "</div>"
            ],
            "text/plain": [
              "   Row ID        Order ID Order Date  ... Quantity Discount    Profit\n",
              "0       1  CA-2016-152156 2016-11-08  ...        2      0.0   41.9136\n",
              "1       2  CA-2016-152156 2016-11-08  ...        3      0.0  219.5820\n",
              "\n",
              "[2 rows x 21 columns]"
            ]
          },
          "metadata": {
            "tags": []
          },
          "execution_count": 6
        }
      ]
    },
    {
      "cell_type": "code",
      "metadata": {
        "id": "MndIcH6nMpk-",
        "outputId": "c4d35f3e-8310-454d-f6ce-da2e856c4619",
        "colab": {
          "base_uri": "https://localhost:8080/",
          "height": 225
        }
      },
      "source": [
        "# Let's find out all important categorical data or DISCRETE values \n",
        "# importance-> usability for filtering \n",
        "len(df)\n",
        "df.Country.value_counts() # Because all values belong to only 1 category!!\n",
        "df.City.value_counts() # Because TOO MANY values for CITY! here, Analysis is possible \n",
        "# for some cities like NYC, LA, Phil because they've enough data points representing them \n"
      ],
      "execution_count": null,
      "outputs": [
        {
          "output_type": "execute_result",
          "data": {
            "text/plain": [
              "New York City    915\n",
              "Los Angeles      747\n",
              "Philadelphia     537\n",
              "San Francisco    510\n",
              "Seattle          428\n",
              "                ... \n",
              "Danbury            1\n",
              "Redding            1\n",
              "Chapel Hill        1\n",
              "Palatine           1\n",
              "Bartlett           1\n",
              "Name: City, Length: 531, dtype: int64"
            ]
          },
          "metadata": {
            "tags": []
          },
          "execution_count": 10
        }
      ]
    },
    {
      "cell_type": "code",
      "metadata": {
        "id": "59C0CP1WO6MO",
        "outputId": "b06275dc-e0db-4e4c-9abe-ef55894b146e",
        "colab": {
          "base_uri": "https://localhost:8080/",
          "height": 381
        }
      },
      "source": [
        "colNames = df.columns \n",
        "for i, feature in enumerate(colNames):\n",
        "  print(colNames[i] + \" \" + str(len(df[feature].value_counts())))\n",
        "\n",
        "# FROM OUTPUT below, we can conclude that best variables for categorical filtering were\n",
        "# 1) Region, 2) Categories, comparitively weaker but still valid-> SUB CATEGORY"
      ],
      "execution_count": null,
      "outputs": [
        {
          "output_type": "stream",
          "text": [
            "Row ID 9994\n",
            "Order ID 5009\n",
            "Order Date 1237\n",
            "Ship Date 1334\n",
            "Ship Mode 4\n",
            "Customer ID 793\n",
            "Customer Name 793\n",
            "Segment 3\n",
            "Country 1\n",
            "City 531\n",
            "State 49\n",
            "Postal Code 631\n",
            "Region 4\n",
            "Product ID 1862\n",
            "Category 3\n",
            "Sub-Category 17\n",
            "Product Name 1850\n",
            "Sales 6144\n",
            "Quantity 14\n",
            "Discount 12\n",
            "Profit 7545\n"
          ],
          "name": "stdout"
        }
      ]
    },
    {
      "cell_type": "code",
      "metadata": {
        "id": "urCb7xKIP4EI",
        "outputId": "94be2c17-bc3d-44cf-df2d-a2d09cb63600",
        "colab": {
          "base_uri": "https://localhost:8080/",
          "height": 87
        }
      },
      "source": [
        "df.Category.value_counts()"
      ],
      "execution_count": null,
      "outputs": [
        {
          "output_type": "execute_result",
          "data": {
            "text/plain": [
              "Office Supplies    6026\n",
              "Furniture          2121\n",
              "Technology         1847\n",
              "Name: Category, dtype: int64"
            ]
          },
          "metadata": {
            "tags": []
          },
          "execution_count": 15
        }
      ]
    },
    {
      "cell_type": "code",
      "metadata": {
        "id": "_sscV5kAQ_z7",
        "outputId": "56723f59-ecce-4cf7-c00b-c8d537831312",
        "colab": {
          "base_uri": "https://localhost:8080/",
          "height": 52
        }
      },
      "source": [
        "data = df.loc[df['Category']=='Furniture']  # LOC-> :,:\n",
        "#data.head()\n",
        "print(data['Order Date'].min())\n",
        "print(data['Order Date'].max())"
      ],
      "execution_count": null,
      "outputs": [
        {
          "output_type": "stream",
          "text": [
            "2014-01-06 00:00:00\n",
            "2017-12-30 00:00:00\n"
          ],
          "name": "stdout"
        }
      ]
    },
    {
      "cell_type": "code",
      "metadata": {
        "id": "ip4TBs6eRU_d",
        "outputId": "8a83e8f0-dd13-42b2-a0f0-121ddf469592",
        "colab": {
          "base_uri": "https://localhost:8080/",
          "height": 569
        }
      },
      "source": [
        "# WHAT IS THE FEATURE that I want to predict against TIME? \n",
        "# y= f(x) -> Y is a CONTINUOUS NUMBER that will change as per time \n",
        "# 2 kind of numbers -> CONTINUOUS and DISCRETE \n",
        "# DISCRETE are categorical features, CONTINUOUS -> numerical real values\n",
        "# COMPLEX numbers -> Real + imaginary -> break down into 2 separate features and solve separately\n",
        "\n",
        "\n"
      ],
      "execution_count": null,
      "outputs": [
        {
          "output_type": "execute_result",
          "data": {
            "text/html": [
              "<div>\n",
              "<style scoped>\n",
              "    .dataframe tbody tr th:only-of-type {\n",
              "        vertical-align: middle;\n",
              "    }\n",
              "\n",
              "    .dataframe tbody tr th {\n",
              "        vertical-align: top;\n",
              "    }\n",
              "\n",
              "    .dataframe thead th {\n",
              "        text-align: right;\n",
              "    }\n",
              "</style>\n",
              "<table border=\"1\" class=\"dataframe\">\n",
              "  <thead>\n",
              "    <tr style=\"text-align: right;\">\n",
              "      <th></th>\n",
              "      <th>Row ID</th>\n",
              "      <th>Order ID</th>\n",
              "      <th>Order Date</th>\n",
              "      <th>Ship Date</th>\n",
              "      <th>Ship Mode</th>\n",
              "      <th>Customer ID</th>\n",
              "      <th>Customer Name</th>\n",
              "      <th>Segment</th>\n",
              "      <th>Country</th>\n",
              "      <th>City</th>\n",
              "      <th>State</th>\n",
              "      <th>Postal Code</th>\n",
              "      <th>Region</th>\n",
              "      <th>Product ID</th>\n",
              "      <th>Category</th>\n",
              "      <th>Sub-Category</th>\n",
              "      <th>Product Name</th>\n",
              "      <th>Sales</th>\n",
              "      <th>Quantity</th>\n",
              "      <th>Discount</th>\n",
              "      <th>Profit</th>\n",
              "    </tr>\n",
              "  </thead>\n",
              "  <tbody>\n",
              "    <tr>\n",
              "      <th>0</th>\n",
              "      <td>1</td>\n",
              "      <td>CA-2016-152156</td>\n",
              "      <td>2016-11-08</td>\n",
              "      <td>2016-11-11</td>\n",
              "      <td>Second Class</td>\n",
              "      <td>CG-12520</td>\n",
              "      <td>Claire Gute</td>\n",
              "      <td>Consumer</td>\n",
              "      <td>United States</td>\n",
              "      <td>Henderson</td>\n",
              "      <td>Kentucky</td>\n",
              "      <td>42420</td>\n",
              "      <td>South</td>\n",
              "      <td>FUR-BO-10001798</td>\n",
              "      <td>Furniture</td>\n",
              "      <td>Bookcases</td>\n",
              "      <td>Bush Somerset Collection Bookcase</td>\n",
              "      <td>261.9600</td>\n",
              "      <td>2</td>\n",
              "      <td>0.00</td>\n",
              "      <td>41.9136</td>\n",
              "    </tr>\n",
              "    <tr>\n",
              "      <th>1</th>\n",
              "      <td>2</td>\n",
              "      <td>CA-2016-152156</td>\n",
              "      <td>2016-11-08</td>\n",
              "      <td>2016-11-11</td>\n",
              "      <td>Second Class</td>\n",
              "      <td>CG-12520</td>\n",
              "      <td>Claire Gute</td>\n",
              "      <td>Consumer</td>\n",
              "      <td>United States</td>\n",
              "      <td>Henderson</td>\n",
              "      <td>Kentucky</td>\n",
              "      <td>42420</td>\n",
              "      <td>South</td>\n",
              "      <td>FUR-CH-10000454</td>\n",
              "      <td>Furniture</td>\n",
              "      <td>Chairs</td>\n",
              "      <td>Hon Deluxe Fabric Upholstered Stacking Chairs,...</td>\n",
              "      <td>731.9400</td>\n",
              "      <td>3</td>\n",
              "      <td>0.00</td>\n",
              "      <td>219.5820</td>\n",
              "    </tr>\n",
              "    <tr>\n",
              "      <th>3</th>\n",
              "      <td>4</td>\n",
              "      <td>US-2015-108966</td>\n",
              "      <td>2015-10-11</td>\n",
              "      <td>2015-10-18</td>\n",
              "      <td>Standard Class</td>\n",
              "      <td>SO-20335</td>\n",
              "      <td>Sean O'Donnell</td>\n",
              "      <td>Consumer</td>\n",
              "      <td>United States</td>\n",
              "      <td>Fort Lauderdale</td>\n",
              "      <td>Florida</td>\n",
              "      <td>33311</td>\n",
              "      <td>South</td>\n",
              "      <td>FUR-TA-10000577</td>\n",
              "      <td>Furniture</td>\n",
              "      <td>Tables</td>\n",
              "      <td>Bretford CR4500 Series Slim Rectangular Table</td>\n",
              "      <td>957.5775</td>\n",
              "      <td>5</td>\n",
              "      <td>0.45</td>\n",
              "      <td>-383.0310</td>\n",
              "    </tr>\n",
              "    <tr>\n",
              "      <th>5</th>\n",
              "      <td>6</td>\n",
              "      <td>CA-2014-115812</td>\n",
              "      <td>2014-06-09</td>\n",
              "      <td>2014-06-14</td>\n",
              "      <td>Standard Class</td>\n",
              "      <td>BH-11710</td>\n",
              "      <td>Brosina Hoffman</td>\n",
              "      <td>Consumer</td>\n",
              "      <td>United States</td>\n",
              "      <td>Los Angeles</td>\n",
              "      <td>California</td>\n",
              "      <td>90032</td>\n",
              "      <td>West</td>\n",
              "      <td>FUR-FU-10001487</td>\n",
              "      <td>Furniture</td>\n",
              "      <td>Furnishings</td>\n",
              "      <td>Eldon Expressions Wood and Plastic Desk Access...</td>\n",
              "      <td>48.8600</td>\n",
              "      <td>7</td>\n",
              "      <td>0.00</td>\n",
              "      <td>14.1694</td>\n",
              "    </tr>\n",
              "    <tr>\n",
              "      <th>10</th>\n",
              "      <td>11</td>\n",
              "      <td>CA-2014-115812</td>\n",
              "      <td>2014-06-09</td>\n",
              "      <td>2014-06-14</td>\n",
              "      <td>Standard Class</td>\n",
              "      <td>BH-11710</td>\n",
              "      <td>Brosina Hoffman</td>\n",
              "      <td>Consumer</td>\n",
              "      <td>United States</td>\n",
              "      <td>Los Angeles</td>\n",
              "      <td>California</td>\n",
              "      <td>90032</td>\n",
              "      <td>West</td>\n",
              "      <td>FUR-TA-10001539</td>\n",
              "      <td>Furniture</td>\n",
              "      <td>Tables</td>\n",
              "      <td>Chromcraft Rectangular Conference Tables</td>\n",
              "      <td>1706.1840</td>\n",
              "      <td>9</td>\n",
              "      <td>0.20</td>\n",
              "      <td>85.3092</td>\n",
              "    </tr>\n",
              "  </tbody>\n",
              "</table>\n",
              "</div>"
            ],
            "text/plain": [
              "    Row ID        Order ID Order Date  ... Quantity Discount    Profit\n",
              "0        1  CA-2016-152156 2016-11-08  ...        2     0.00   41.9136\n",
              "1        2  CA-2016-152156 2016-11-08  ...        3     0.00  219.5820\n",
              "3        4  US-2015-108966 2015-10-11  ...        5     0.45 -383.0310\n",
              "5        6  CA-2014-115812 2014-06-09  ...        7     0.00   14.1694\n",
              "10      11  CA-2014-115812 2014-06-09  ...        9     0.20   85.3092\n",
              "\n",
              "[5 rows x 21 columns]"
            ]
          },
          "metadata": {
            "tags": []
          },
          "execution_count": 20
        }
      ]
    },
    {
      "cell_type": "code",
      "metadata": {
        "id": "kEcVi8WwSLFS",
        "outputId": "edcbde4a-0291-42a1-f9ac-b1320e460d4a",
        "colab": {
          "base_uri": "https://localhost:8080/",
          "height": 104
        }
      },
      "source": [
        "df['Ship Mode'].value_counts()\n",
        "# If I was a LOGISTICS planner or Biz Analyst, this is the categorical column!\n"
      ],
      "execution_count": null,
      "outputs": [
        {
          "output_type": "execute_result",
          "data": {
            "text/plain": [
              "Standard Class    5968\n",
              "Second Class      1945\n",
              "First Class       1538\n",
              "Same Day           543\n",
              "Name: Ship Mode, dtype: int64"
            ]
          },
          "metadata": {
            "tags": []
          },
          "execution_count": 21
        }
      ]
    },
    {
      "cell_type": "code",
      "metadata": {
        "id": "MSWrvL8wW4x6",
        "outputId": "8a995a1a-caa5-4ab0-e787-88ea74519e6f",
        "colab": {
          "base_uri": "https://localhost:8080/",
          "height": 35
        }
      },
      "source": [
        "# Best continuous variables to predict AGAINST time \n",
        "# Sales and Profit (Sales Biz Analyst)\n",
        "# Quantity (Logistic Biz Analyst) and Discount (too many 0s)\n",
        "\n",
        "# For demo, let's proceed with predicting SALES\n",
        "\n",
        "len(data)\n",
        "# here we have 4 years of data represented by 2121 rows of dataset\n",
        "# 365 X 4 -> 1460 unique days! \n",
        "# At least some dates have more than 1 order\n",
        "# maybe some dates may not orders at all! \n",
        "\n",
        "\n",
        "# IN TSA we don't expect a GAUSSIAN distribution specially when variables are \n",
        "# profit, loss, sales etc. which either increase or decrease! they don't go bell curve\n",
        "\n",
        "# in prev cases of classification, we would have preferred uniform or gaussian or normal distribution\n"
      ],
      "execution_count": null,
      "outputs": [
        {
          "output_type": "execute_result",
          "data": {
            "text/plain": [
              "2121"
            ]
          },
          "metadata": {
            "tags": []
          },
          "execution_count": 22
        }
      ]
    },
    {
      "cell_type": "code",
      "metadata": {
        "id": "9zBiCwgvZYBj",
        "outputId": "ac68eabb-5d2b-43c2-9113-1633fd90a452",
        "colab": {
          "base_uri": "https://localhost:8080/",
          "height": 202
        }
      },
      "source": [
        "# ORDER BY and GROUP BY were our go to methods in SQL!\n",
        "data_grouped = data.groupby('Order Date')\n",
        "data_grouped = data_grouped['Sales'].sum().reset_index()\n",
        "data_grouped.tail()\n",
        "# OUR ASSUMPTIONS WERE CORRECT! \n",
        "# At least some dates have more than 1 order\n",
        "# maybe some dates may not orders at all! "
      ],
      "execution_count": null,
      "outputs": [
        {
          "output_type": "execute_result",
          "data": {
            "text/html": [
              "<div>\n",
              "<style scoped>\n",
              "    .dataframe tbody tr th:only-of-type {\n",
              "        vertical-align: middle;\n",
              "    }\n",
              "\n",
              "    .dataframe tbody tr th {\n",
              "        vertical-align: top;\n",
              "    }\n",
              "\n",
              "    .dataframe thead th {\n",
              "        text-align: right;\n",
              "    }\n",
              "</style>\n",
              "<table border=\"1\" class=\"dataframe\">\n",
              "  <thead>\n",
              "    <tr style=\"text-align: right;\">\n",
              "      <th></th>\n",
              "      <th>Order Date</th>\n",
              "      <th>Sales</th>\n",
              "    </tr>\n",
              "  </thead>\n",
              "  <tbody>\n",
              "    <tr>\n",
              "      <th>884</th>\n",
              "      <td>2017-12-24</td>\n",
              "      <td>1393.4940</td>\n",
              "    </tr>\n",
              "    <tr>\n",
              "      <th>885</th>\n",
              "      <td>2017-12-25</td>\n",
              "      <td>832.4540</td>\n",
              "    </tr>\n",
              "    <tr>\n",
              "      <th>886</th>\n",
              "      <td>2017-12-28</td>\n",
              "      <td>551.2568</td>\n",
              "    </tr>\n",
              "    <tr>\n",
              "      <th>887</th>\n",
              "      <td>2017-12-29</td>\n",
              "      <td>2330.7180</td>\n",
              "    </tr>\n",
              "    <tr>\n",
              "      <th>888</th>\n",
              "      <td>2017-12-30</td>\n",
              "      <td>323.1360</td>\n",
              "    </tr>\n",
              "  </tbody>\n",
              "</table>\n",
              "</div>"
            ],
            "text/plain": [
              "    Order Date      Sales\n",
              "884 2017-12-24  1393.4940\n",
              "885 2017-12-25   832.4540\n",
              "886 2017-12-28   551.2568\n",
              "887 2017-12-29  2330.7180\n",
              "888 2017-12-30   323.1360"
            ]
          },
          "metadata": {
            "tags": []
          },
          "execution_count": 30
        }
      ]
    },
    {
      "cell_type": "code",
      "metadata": {
        "id": "lMf2w6UhaZ5V",
        "outputId": "8b523ff6-0dec-4f50-ebd9-f8e9995efab6",
        "colab": {
          "base_uri": "https://localhost:8080/",
          "height": 139
        }
      },
      "source": [
        "# HERE PREDICTING DAY by DAY will be a mistake -> real data for this granularity does not exist\n",
        "# Weekly or monthly prediction \n",
        "# Temp this week will be around 22\n",
        "# M-> 22, T-> 21, W->33, .... Sun-> 21 \n",
        "# Between the two, the weekly prediction have lesser chances of going wrong than daily prediction\n",
        "# Monthly will be better than weekly\n",
        "# Quarter will be better than monthly , annual better than quarterly \n",
        "data_grouped.set_index('Order Date', inplace=True)\n",
        "# https://pandas.pydata.org/pandas-docs/stable/reference/api/pandas.DataFrame.resample.html\n",
        "y = data_grouped['Sales'].resample('MS').mean() # average sales of month will be a BETTER prediction than TOTAL sales \n",
        "y.head()\n"
      ],
      "execution_count": null,
      "outputs": [
        {
          "output_type": "execute_result",
          "data": {
            "text/plain": [
              "Order Date\n",
              "2014-01-01    480.194231\n",
              "2014-02-01    367.931600\n",
              "2014-03-01    857.291529\n",
              "2014-04-01    567.488357\n",
              "2014-05-01    432.049187\n",
              "Freq: MS, Name: Sales, dtype: float64"
            ]
          },
          "metadata": {
            "tags": []
          },
          "execution_count": 39
        }
      ]
    },
    {
      "cell_type": "code",
      "metadata": {
        "id": "vP4zxthBT-Hz",
        "outputId": "fbe7dfb5-f0ab-4476-ab20-fd4c2ae7abf5",
        "colab": {
          "base_uri": "https://localhost:8080/",
          "height": 468
        }
      },
      "source": [
        "\n",
        "# VERY VERY IMPORTANT \n",
        "# Discrete and Continuous -> book -> Ralph L Grimaldi's discrete and combinatorial maths\n",
        "\n",
        " # 48 was expected for 4 years- Proper representation for all discrete timestamps\n",
        "# Time Series, Singals and Systems, Sound -> sampling \n",
        "y.tail()\n",
        "y['2014':'2015']\n",
        "# [red, blue, red, blue, ?]\n",
        "\n"
      ],
      "execution_count": null,
      "outputs": [
        {
          "output_type": "execute_result",
          "data": {
            "text/plain": [
              "Order Date\n",
              "2014-01-01     480.194231\n",
              "2014-02-01     367.931600\n",
              "2014-03-01     857.291529\n",
              "2014-04-01     567.488357\n",
              "2014-05-01     432.049187\n",
              "2014-06-01     695.059242\n",
              "2014-07-01     601.169500\n",
              "2014-08-01     457.521656\n",
              "2014-09-01     992.353367\n",
              "2014-10-01     769.015437\n",
              "2014-11-01     980.221486\n",
              "2014-12-01    1532.298325\n",
              "2015-01-01     978.328467\n",
              "2015-02-01     522.395667\n",
              "2015-03-01     781.236437\n",
              "2015-04-01     805.822962\n",
              "2015-05-01     624.996700\n",
              "2015-06-01     428.565500\n",
              "2015-07-01     719.706316\n",
              "2015-08-01     602.412012\n",
              "2015-09-01    1382.790684\n",
              "2015-10-01     632.980184\n",
              "2015-11-01    1286.701354\n",
              "2015-12-01    1049.355418\n",
              "Freq: MS, Name: Sales, dtype: float64"
            ]
          },
          "metadata": {
            "tags": []
          },
          "execution_count": 47
        }
      ]
    },
    {
      "cell_type": "code",
      "metadata": {
        "id": "a8DGKMYmcUPH",
        "outputId": "bd818063-dcea-46ed-a2e3-fce0f9ed169e",
        "colab": {
          "base_uri": "https://localhost:8080/",
          "height": 310
        }
      },
      "source": [
        "# Independence Tests -> Profit was dependent on DISCOUNT and SALES \n",
        "# Univariate variable for TSA -> make sure that it's an independent variable\n",
        "# We preferred SALES over PROFIT \n",
        "# For BULK data -> always do an independence test \n",
        "# Profit = y = f(Sales, Discount) <- Profit was dependent \n",
        "# Sales -> y = f(order_items ) \n",
        "plt.figure()\n",
        "y.plot(figsize=(15,5))\n",
        "plt.show()\n"
      ],
      "execution_count": null,
      "outputs": [
        {
          "output_type": "display_data",
          "data": {
            "image/png": "[encoded data removed]",
            "text/plain": [
              "<Figure size 1080x360 with 1 Axes>"
            ]
          },
          "metadata": {
            "tags": [],
            "needs_background": "light"
          }
        }
      ]
    },
    {
      "cell_type": "code",
      "metadata": {
        "id": "InEjzFkhlCKV",
        "outputId": "936973c2-57d0-49a7-e58b-94049e150c68",
        "colab": {
          "base_uri": "https://localhost:8080/",
          "height": 299
        }
      },
      "source": [
        "# Eigenvectors and EigenValues -> \n",
        "# Vectors on which any linear transformation is applied -> and doesn't change its direction\n",
        "# SUCH a vector is called Eigenvector, and its value is Eigenvalue \n",
        "# https://www.mathsisfun.com/algebra/eigenvalue.html \n",
        "\n",
        "# OLD Algo for TS: https://orangematter.solarwinds.com/2019/12/15/holt-winters-forecasting-simplified/\n",
        "# SEASONS could impact your data \n",
        "# EXTERNAL factors -> Marketing or promotion or discounts that could manipulate your predictions\n",
        "\n",
        "# SARIMAX -> SEASONAL ARIMA EXTREME \n",
        "# SEASONS -> PERIODS or PATTERNS that repeat w.r.t. TIME \n",
        "# TREND -> whether the overall data was increasing or decreasing (slope, dy/dx )\n",
        "# RESIDUE or NOISE -> Whatever is left \n",
        "# INSTEAD of making prediction on original data \n",
        "# We decompose the GRAPH into Seasons, TRENDS, RESIDUE \n",
        "# each of them is predicted separately, and then composed to get final prediction \n",
        "# AR I MA -> Auto-Regression, Integrated seasons, Moving Averages \n",
        "# we will apply all 3 algorithms to SEASONS (season present or season absent), trend, residue\n",
        "# \n",
        "# MOVING AVERAGES\n",
        "#time windows keep on shifting , so that history has slowly LESSER impact on future\n",
        "decomposition = sm.tsa.seasonal_decompose(y, model='additive')\n",
        "# https://www.statsmodels.org/stable/generated/statsmodels.tsa.seasonal.seasonal_decompose.html\n",
        "\n",
        "fig = decomposition.plot()\n",
        "plt.show() \n",
        "# INITIAL 5 points are IGNORED so that trend calculation can be done\n",
        "# TREND needs a history! \n",
        "# 3 and 5 are your magic numbers \n",
        "# THESE ARE WINDOWS of time periods "
      ],
      "execution_count": null,
      "outputs": [
        {
          "output_type": "display_data",
          "data": {
            "image/png": "[encoded data removed]",
            "text/plain": [
              "<Figure size 432x288 with 4 Axes>"
            ]
          },
          "metadata": {
            "tags": [],
            "needs_background": "light"
          }
        }
      ]
    },
    {
      "cell_type": "markdown",
      "metadata": {
        "id": "zBxmtVuetYxu"
      },
      "source": [
        "2 algorithms to build these truth tables:\n",
        "\n",
        "1) EXHAUSTIVE -> ALL COMBINATIONS (entire truth table will be created)\n",
        "\n",
        "- SLOWER\n",
        "\n",
        "-> GRID SEARCH \n",
        "\n",
        "2) Not the best, but workable answer (randomly truth will be created)\n",
        "\n",
        "- FASTER \n",
        "\n",
        "-> RANDOM SEARCH \n",
        "\n",
        "https://towardsdatascience.com/random-search-vs-grid-search-for-hyperparameter-optimization-345e1422899d\n",
        "\n",
        "\n",
        "Can be used to find best combination(s) of algo comparison, parameters, hyperparameters, metrics or wherever TOO many are present and we could select a few of them! "
      ]
    },
    {
      "cell_type": "code",
      "metadata": {
        "id": "xPXqJtZd0ymk",
        "outputId": "18bcffe2-31ac-4cee-84db-8530499f72c9",
        "colab": {
          "base_uri": "https://localhost:8080/",
          "height": 35
        }
      },
      "source": [
        "# in AR I MA -> p,d,q \n",
        "p = d = q = range(0,2) # VALUE generators between [0,1] \n",
        "pdq = list(itertools.product(p,d,q))\n",
        "print(pdq)\n",
        "\n"
      ],
      "execution_count": null,
      "outputs": [
        {
          "output_type": "stream",
          "text": [
            "[(0, 0, 0), (0, 0, 1), (0, 1, 0), (0, 1, 1), (1, 0, 0), (1, 0, 1), (1, 1, 0), (1, 1, 1)]\n"
          ],
          "name": "stdout"
        }
      ]
    },
    {
      "cell_type": "code",
      "metadata": {
        "id": "xq03q7WD1_6U",
        "outputId": "8ecaba9a-0f22-4142-89f1-531f4e415fef",
        "colab": {
          "base_uri": "https://localhost:8080/",
          "height": 87
        }
      },
      "source": [
        "# SEASONS -> manipulated manually -> at what point should I expect repeatation?\n",
        "# YEARs -> our repeatation is ANNUAL in nature \n",
        "seasons = 12 # my data granularity is monthly -> so to take 1 year as a SEASON, i have to take\n",
        "# 12 months \n",
        "# LIST COMPREHENSION -> (0,0,0) -> (0,0,0,12)\n",
        "seasonal_pdq = [   (x[0],x[1],x[2], seasons)  for x in pdq] # if x was (0,1,0), -> (0,1,0,12)\n",
        "print('SARIMAX individual MODEL = {} X {}'.format(pdq[5], seasonal_pdq[0]))\n",
        "print('SARIMAX individual MODEL = {} X {}'.format(pdq[5], seasonal_pdq[1]))\n",
        "print('SARIMAX individual MODEL = {} X {}'.format(pdq[5], seasonal_pdq[2]))\n",
        "print('SARIMAX individual MODEL = {} X {}'.format(pdq[5], seasonal_pdq[3]))\n",
        "# here is an INDIVIDUAL MODEL -> WITH and WITHOUT SEASON \n",
        "# ALL SUCH PERMUTATIONS WILL BE EXHAUSTIVELY CREATED!!! \n",
        "# EVERY POSSIBLE COMBINATION HAS BEEN CREATED! \n",
        "# AN SARIMAX -> SEASONAL ARIMA EXHAUSTIVE \n",
        "# ALL possible algos with (seasonal_pdq) and without season (pdq)\n",
        "# "
      ],
      "execution_count": null,
      "outputs": [
        {
          "output_type": "stream",
          "text": [
            "SARIMAX individual MODEL = (1, 0, 1) X (0, 0, 0, 12)\n",
            "SARIMAX individual MODEL = (1, 0, 1) X (0, 0, 1, 12)\n",
            "SARIMAX individual MODEL = (1, 0, 1) X (0, 1, 0, 12)\n",
            "SARIMAX individual MODEL = (1, 0, 1) X (0, 1, 1, 12)\n"
          ],
          "name": "stdout"
        }
      ]
    },
    {
      "cell_type": "code",
      "metadata": {
        "id": "wG5q2FQ_7Mub",
        "outputId": "f1a9c7fb-757c-4361-e749-47b1c3a9f1ce",
        "colab": {
          "base_uri": "https://localhost:8080/",
          "height": 1000
        }
      },
      "source": [
        "# HOW DO WE DECIDE IF ONE MODEL IS BETTER THAN THE OTHER MODEL?\n",
        "# METRICS -> ACCURACY, PRecision, Recall, F1 score, MAE, MSE....\n",
        "# AKAIKE INFORMATION CRITERION (for a while now, this is a PROBABILISTIC formula to calculate\n",
        "# error in liklihood/probability calculation)\n",
        "# AIC = 2k - 2 ln (L) \n",
        "# L -> maximum Liklihood of the model's correctness (same formula as in RMSE,STD \n",
        "# etc, but converted into Probaility of correctness rather than actual number)\n",
        "# k -> no. of samples being considered \n",
        "# for AIC, MINIMUM value is preferred \n",
        "# AIC is LOSS CALCULATION -> hence more loss = bad model\n",
        "# \n",
        "# we will end up with a LOT of IMPOSSIBLE/Imaginary/Complex/Divby0/Errors models\n",
        "# LOT of these models may not even make sense, and will throw exceptions!\n",
        "# EXCEPTION handling is MUST  \n",
        "min_pdq = (999,999,999)\n",
        "min_spdq = (999,999,999,12)\n",
        "min_AIC = 999\n",
        "for param in pdq:\n",
        "  for sparam in seasonal_pdq:\n",
        "    try:\n",
        "      model = sm.tsa.statespace.SARIMAX(y, order=param, seasonal_order=sparam, enforce_stationarity=False)\n",
        "      predictions = model.fit()\n",
        "      print('Model={}X{}. AIC= {}'.format(param, sparam, predictions.aic))\n",
        "      if(predictions.aic < min_AIC):\n",
        "        min_pdq = param\n",
        "        min_spdq = sparam\n",
        "        min_AIC = predictions.aic\n",
        "    except Exception as e:\n",
        "      print(e)\n",
        "      continue\n",
        "\n",
        "print('**** Smallest PDQ,SPDQ is *****')\n",
        "print(min_AIC)\n",
        "print(min_pdq)\n",
        "print(min_spdq)\n",
        "\n",
        "# Somebody said, that because sky is blue, you remain ANGRY\n",
        "# the only way to prove or disprove this\n",
        "# be angry in presence of blue sky, and in its absence\n",
        "# EXHAUSTIVE comparison! angry, no angry -> when sky is BLUE, GREEN, PINK \n",
        "# and at the same time in ABSENCE of sky also -> to calculate if there was any impact of \n",
        "# sky at all! \n"
      ],
      "execution_count": null,
      "outputs": [
        {
          "output_type": "stream",
          "text": [
            "Model=(0, 0, 0)X(0, 0, 0, 12). AIC= 769.0817523205916\n",
            "Model=(0, 0, 0)X(0, 0, 1, 12). AIC= 548.1766779886199\n",
            "Model=(0, 0, 0)X(0, 1, 0, 12). AIC= 477.71701309202774\n",
            "maxlag should be < nobs\n",
            "Model=(0, 0, 0)X(1, 0, 0, 12). AIC= 497.2314433418337\n",
            "Model=(0, 0, 0)X(1, 0, 1, 12). AIC= 478.3653805779411\n",
            "Model=(0, 0, 0)X(1, 1, 0, 12). AIC= 318.0047199116341\n",
            "maxlag should be < nobs\n",
            "Model=(0, 0, 1)X(0, 0, 0, 12). AIC= 720.9252270739973\n",
            "Model=(0, 0, 1)X(0, 0, 1, 12). AIC= 514.7587049639892\n",
            "Model=(0, 0, 1)X(0, 1, 0, 12). AIC= 466.5556513479083\n",
            "maxlag should be < nobs\n",
            "Model=(0, 0, 1)X(1, 0, 0, 12). AIC= 498.8314925544705\n",
            "Model=(0, 0, 1)X(1, 0, 1, 12). AIC= 467.10392112800224\n",
            "Model=(0, 0, 1)X(1, 1, 0, 12). AIC= 319.9884876946219\n",
            "maxlag should be < nobs\n",
            "Model=(0, 1, 0)X(0, 0, 0, 12). AIC= 677.894766859465\n",
            "Model=(0, 1, 0)X(0, 0, 1, 12). AIC= 488.70123262205084\n",
            "Model=(0, 1, 0)X(0, 1, 0, 12). AIC= 486.63785671879367\n",
            "maxlag should be < nobs\n",
            "Model=(0, 1, 0)X(1, 0, 0, 12). AIC= 497.78896630044073\n",
            "Model=(0, 1, 0)X(1, 0, 1, 12). AIC= 482.60013511582406\n",
            "Model=(0, 1, 0)X(1, 1, 0, 12). AIC= 319.7714068109211\n",
            "maxlag should be < nobs\n",
            "Model=(0, 1, 1)X(0, 0, 0, 12). AIC= 649.9056176746318\n",
            "Model=(0, 1, 1)X(0, 0, 1, 12). AIC= 463.70341352306565\n",
            "Model=(0, 1, 1)X(0, 1, 0, 12). AIC= 458.8768954885655\n",
            "maxlag should be < nobs\n",
            "Model=(0, 1, 1)X(1, 0, 0, 12). AIC= 486.1833987523838\n",
            "Model=(0, 1, 1)X(1, 0, 1, 12). AIC= 455.5706643275364\n",
            "Model=(0, 1, 1)X(1, 1, 0, 12). AIC= 308.9297301489636\n",
            "maxlag should be < nobs\n",
            "Model=(1, 0, 0)X(0, 0, 0, 12). AIC= 692.1645522067712\n",
            "Model=(1, 0, 0)X(0, 0, 1, 12). AIC= 503.41425767544223\n",
            "Model=(1, 0, 0)X(0, 1, 0, 12). AIC= 479.46321478521355\n",
            "maxlag should be < nobs\n",
            "Model=(1, 0, 0)X(1, 0, 0, 12). AIC= 480.9259367935196\n",
            "Model=(1, 0, 0)X(1, 0, 1, 12). AIC= 479.78374036400294\n",
            "Model=(1, 0, 0)X(1, 1, 0, 12). AIC= 304.46646750846014\n",
            "maxlag should be < nobs\n",
            "Model=(1, 0, 1)X(0, 0, 0, 12). AIC= 665.3584432676887\n",
            "Model=(1, 0, 1)X(0, 0, 1, 12). AIC= 478.7880509904927\n",
            "Model=(1, 0, 1)X(0, 1, 0, 12). AIC= 468.36848137363256\n",
            "maxlag should be < nobs\n",
            "Model=(1, 0, 1)X(1, 0, 0, 12). AIC= 482.57633251540955\n",
            "Model=(1, 0, 1)X(1, 0, 1, 12). AIC= 469.0678762012034\n",
            "Model=(1, 0, 1)X(1, 1, 0, 12). AIC= 306.01560028471613\n",
            "maxlag should be < nobs\n",
            "Model=(1, 1, 0)X(0, 0, 0, 12). AIC= 671.2513547541902\n",
            "Model=(1, 1, 0)X(0, 0, 1, 12). AIC= 482.55772248769205\n",
            "Model=(1, 1, 0)X(0, 1, 0, 12). AIC= 479.2003422281135\n",
            "maxlag should be < nobs\n",
            "Model=(1, 1, 0)X(1, 0, 0, 12). AIC= 475.3403658784892\n",
            "Model=(1, 1, 0)X(1, 0, 1, 12). AIC= 475.42185864764707\n",
            "Model=(1, 1, 0)X(1, 1, 0, 12). AIC= 300.6270901345398\n",
            "maxlag should be < nobs\n",
            "Model=(1, 1, 1)X(0, 0, 0, 12). AIC= 649.0319484571236\n",
            "Model=(1, 1, 1)X(0, 0, 1, 12). AIC= 464.48619151392836\n",
            "Model=(1, 1, 1)X(0, 1, 0, 12). AIC= 460.4764275959342\n",
            "maxlag should be < nobs\n",
            "Model=(1, 1, 1)X(1, 0, 0, 12). AIC= 469.52504246276555\n",
            "Model=(1, 1, 1)X(1, 0, 1, 12). AIC= 457.48748412839427\n",
            "Model=(1, 1, 1)X(1, 1, 0, 12). AIC= 298.6016749250111\n",
            "maxlag should be < nobs\n",
            "**** Smallest PDQ,SPDQ is *****\n",
            "298.6016749250111\n",
            "(1, 1, 1)\n",
            "(1, 1, 0, 12)\n"
          ],
          "name": "stdout"
        }
      ]
    },
    {
      "cell_type": "code",
      "metadata": {
        "id": "VDJGGsQ0Um3n",
        "outputId": "33d247b0-bc8c-4179-a997-afb536a4b177",
        "colab": {
          "base_uri": "https://localhost:8080/",
          "height": 458
        }
      },
      "source": [
        "model = sm.tsa.statespace.SARIMAX(y, order=min_pdq, seasonal_order= min_spdq, enforce_stationarity=False)\n",
        "# (0, 1, 0)X(1, 0, 1, 12)\n",
        "model2 = sm.tsa.statespace.SARIMAX(y, order=(0, 1, 0), seasonal_order= (1, 0, 1, 12), enforce_stationarity=False)\n",
        "results = model.fit()\n",
        "results2 = model2.fit()\n",
        "# we've taken 2 models so that we can compare their predictions \n",
        "results.summary() #.tables[1]  # AIC => needs to be lowest \n",
        "# results.summary()\n"
      ],
      "execution_count": null,
      "outputs": [
        {
          "output_type": "execute_result",
          "data": {
            "text/html": [
              "<table class=\"simpletable\">\n",
              "<caption>Statespace Model Results</caption>\n",
              "<tr>\n",
              "  <th>Dep. Variable:</th>                <td>Sales</td>             <th>  No. Observations:  </th>    <td>48</td>   \n",
              "</tr>\n",
              "<tr>\n",
              "  <th>Model:</th>           <td>SARIMAX(1, 1, 1)x(1, 1, 0, 12)</td> <th>  Log Likelihood     </th> <td>-145.301</td>\n",
              "</tr>\n",
              "<tr>\n",
              "  <th>Date:</th>                   <td>Wed, 22 Apr 2020</td>        <th>  AIC                </th>  <td>298.602</td>\n",
              "</tr>\n",
              "<tr>\n",
              "  <th>Time:</th>                       <td>10:07:35</td>            <th>  BIC                </th>  <td>302.966</td>\n",
              "</tr>\n",
              "<tr>\n",
              "  <th>Sample:</th>                    <td>01-01-2014</td>           <th>  HQIC               </th>  <td>299.630</td>\n",
              "</tr>\n",
              "<tr>\n",
              "  <th></th>                          <td>- 12-01-2017</td>          <th>                     </th>     <td> </td>   \n",
              "</tr>\n",
              "<tr>\n",
              "  <th>Covariance Type:</th>               <td>opg</td>              <th>                     </th>     <td> </td>   \n",
              "</tr>\n",
              "</table>\n",
              "<table class=\"simpletable\">\n",
              "<tr>\n",
              "      <td></td>        <th>coef</th>     <th>std err</th>      <th>z</th>      <th>P>|z|</th>  <th>[0.025</th>    <th>0.975]</th>  \n",
              "</tr>\n",
              "<tr>\n",
              "  <th>ar.L1</th>    <td>    0.1280</td> <td>    0.276</td> <td>    0.464</td> <td> 0.643</td> <td>   -0.412</td> <td>    0.669</td>\n",
              "</tr>\n",
              "<tr>\n",
              "  <th>ma.L1</th>    <td>   -0.9998</td> <td>    0.450</td> <td>   -2.223</td> <td> 0.026</td> <td>   -1.881</td> <td>   -0.118</td>\n",
              "</tr>\n",
              "<tr>\n",
              "  <th>ar.S.L12</th> <td>   -0.2811</td> <td>    0.154</td> <td>   -1.826</td> <td> 0.068</td> <td>   -0.583</td> <td>    0.021</td>\n",
              "</tr>\n",
              "<tr>\n",
              "  <th>sigma2</th>   <td> 3.028e+04</td> <td> 1.49e-05</td> <td> 2.04e+09</td> <td> 0.000</td> <td> 3.03e+04</td> <td> 3.03e+04</td>\n",
              "</tr>\n",
              "</table>\n",
              "<table class=\"simpletable\">\n",
              "<tr>\n",
              "  <th>Ljung-Box (Q):</th>           <td>nan</td> <th>  Jarque-Bera (JB):  </th> <td>0.77</td> \n",
              "</tr>\n",
              "<tr>\n",
              "  <th>Prob(Q):</th>                 <td>nan</td> <th>  Prob(JB):          </th> <td>0.68</td> \n",
              "</tr>\n",
              "<tr>\n",
              "  <th>Heteroskedasticity (H):</th> <td>0.67</td> <th>  Skew:              </th> <td>-0.22</td>\n",
              "</tr>\n",
              "<tr>\n",
              "  <th>Prob(H) (two-sided):</th>    <td>0.61</td> <th>  Kurtosis:          </th> <td>2.19</td> \n",
              "</tr>\n",
              "</table><br/><br/>Warnings:<br/>[1] Covariance matrix calculated using the outer product of gradients (complex-step).<br/>[2] Covariance matrix is singular or near-singular, with condition number 6.73e+24. Standard errors may be unstable."
            ],
            "text/plain": [
              "<class 'statsmodels.iolib.summary.Summary'>\n",
              "\"\"\"\n",
              "                                 Statespace Model Results                                 \n",
              "==========================================================================================\n",
              "Dep. Variable:                              Sales   No. Observations:                   48\n",
              "Model:             SARIMAX(1, 1, 1)x(1, 1, 0, 12)   Log Likelihood                -145.301\n",
              "Date:                            Wed, 22 Apr 2020   AIC                            298.602\n",
              "Time:                                    10:07:35   BIC                            302.966\n",
              "Sample:                                01-01-2014   HQIC                           299.630\n",
              "                                     - 12-01-2017                                         \n",
              "Covariance Type:                              opg                                         \n",
              "==============================================================================\n",
              "                 coef    std err          z      P>|z|      [0.025      0.975]\n",
              "------------------------------------------------------------------------------\n",
              "ar.L1          0.1280      0.276      0.464      0.643      -0.412       0.669\n",
              "ma.L1         -0.9998      0.450     -2.223      0.026      -1.881      -0.118\n",
              "ar.S.L12      -0.2811      0.154     -1.826      0.068      -0.583       0.021\n",
              "sigma2      3.028e+04   1.49e-05   2.04e+09      0.000    3.03e+04    3.03e+04\n",
              "===================================================================================\n",
              "Ljung-Box (Q):                         nan   Jarque-Bera (JB):                 0.77\n",
              "Prob(Q):                               nan   Prob(JB):                         0.68\n",
              "Heteroskedasticity (H):               0.67   Skew:                            -0.22\n",
              "Prob(H) (two-sided):                  0.61   Kurtosis:                         2.19\n",
              "===================================================================================\n",
              "\n",
              "Warnings:\n",
              "[1] Covariance matrix calculated using the outer product of gradients (complex-step).\n",
              "[2] Covariance matrix is singular or near-singular, with condition number 6.73e+24. Standard errors may be unstable.\n",
              "\"\"\""
            ]
          },
          "metadata": {
            "tags": []
          },
          "execution_count": 69
        }
      ]
    },
    {
      "cell_type": "code",
      "metadata": {
        "id": "Nfs3uMnsW7w0",
        "outputId": "33b50157-f5c9-4fd1-97a2-380719a5154d",
        "colab": {
          "base_uri": "https://localhost:8080/",
          "height": 291
        }
      },
      "source": [
        "# let's check the actual predictions and plot them \n",
        "\n",
        "pred = results.get_prediction(start=pd.to_datetime('2017-01-01'), dynamic=False)\n",
        "pred_ci = pred.conf_int()\n",
        "pred2 = results2.get_prediction(start=pd.to_datetime('2017-01-01'), dynamic=False)\n",
        "pred2_ci = pred2.conf_int()\n",
        "ax = y['2014':].plot(label='actual') # ACTUAL DATA PLOT\n",
        "pred.predicted_mean.plot(ax=ax, label='One-Step-Ahead Forecast')\n",
        "# there is always a tolerance or error kernel(region) surrounding the forecast\n",
        "# +- region within which mistakes are acceptable \n",
        "# THIS TOLERANCE REGION is also called CONFIDENCE INTERVAL \n",
        "ax.fill_between(pred_ci.index, pred_ci.iloc[:,0], pred_ci.iloc[:,1], color='k', alpha=0.2)\n",
        "# BASE LINE-> index, lower confidence limit, upper confidence limit\n",
        "ax.set_xlabel('Months')\n",
        "ax.set_ylabel('Algo 1 Forecast')\n",
        "plt.legend()\n",
        "plt.show() \n",
        "\n"
      ],
      "execution_count": null,
      "outputs": [
        {
          "output_type": "display_data",
          "data": {
            "image/png": "[encoded data removed]",
            "text/plain": [
              "<Figure size 432x288 with 1 Axes>"
            ]
          },
          "metadata": {
            "tags": [],
            "needs_background": "light"
          }
        }
      ]
    },
    {
      "cell_type": "code",
      "metadata": {
        "id": "aakckcx3ZQVW",
        "outputId": "65f714b4-0b5b-4d3c-8b6c-91f1ce315559",
        "colab": {
          "base_uri": "https://localhost:8080/",
          "height": 291
        }
      },
      "source": [
        "plt.figure()\n",
        "bx = y['2014':].plot(label='actual') # ACTUAL DATA PLOT\n",
        "pred2.predicted_mean.plot(ax=bx, label='One-Step-Ahead Forecast')\n",
        "# there is always a tolerance or error kernel(region) surrounding the forecast\n",
        "# +- region within which mistakes are acceptable \n",
        "# THIS TOLERANCE REGION is also called CONFIDENCE INTERVAL \n",
        "bx.fill_between(pred2_ci.index, pred2_ci.iloc[:,0], pred2_ci.iloc[:,1], color='k', alpha=0.2)\n",
        "# BASE LINE-> index, lower confidence limit, upper confidence limit\n",
        "bx.set_xlabel('Months')\n",
        "bx.set_ylabel('Algo 2 Forecast')\n",
        "plt.legend()\n",
        "plt.show() "
      ],
      "execution_count": null,
      "outputs": [
        {
          "output_type": "display_data",
          "data": {
            "image/png": "[encoded data removed]",
            "text/plain": [
              "<Figure size 432x288 with 1 Axes>"
            ]
          },
          "metadata": {
            "tags": [],
            "needs_background": "light"
          }
        }
      ]
    },
    {
      "cell_type": "code",
      "metadata": {
        "id": "qTuiZBDKXcPi",
        "outputId": "ddd1e383-100b-430c-fb03-d00edac4a1ac",
        "colab": {
          "base_uri": "https://localhost:8080/",
          "height": 35
        }
      },
      "source": [
        ""
      ],
      "execution_count": null,
      "outputs": [
        {
          "output_type": "execute_result",
          "data": {
            "text/plain": [
              "<statsmodels.tsa.statespace.mlemodel.PredictionResultsWrapper at 0x7f61b434dc18>"
            ]
          },
          "metadata": {
            "tags": []
          },
          "execution_count": 71
        }
      ]
    },
    {
      "cell_type": "markdown",
      "metadata": {
        "id": "EDXPfjC67MAw"
      },
      "source": [
        ""
      ]
    },
    {
      "cell_type": "code",
      "metadata": {
        "id": "_RhXDOYw5dGA",
        "outputId": "eb5bcbf9-4022-4fd4-f053-9cf476e91d9c",
        "colab": {
          "base_uri": "https://localhost:8080/",
          "height": 191
        }
      },
      "source": [
        "abc = ['hello', 'world', 'xyz']\n",
        "nums = range(10)\n",
        "xya = [ (num/2, num%2 ) for num in nums ]\n",
        "xya\n",
        "\n",
        "\n",
        "#    ['hello', 'world'] X ['bye', 'bye', 'world']\n",
        "# hello X [bye, bye , world] , world X ['bye', 'bye', 'world']"
      ],
      "execution_count": null,
      "outputs": [
        {
          "output_type": "execute_result",
          "data": {
            "text/plain": [
              "[(0.0, 0),\n",
              " (0.5, 1),\n",
              " (1.0, 0),\n",
              " (1.5, 1),\n",
              " (2.0, 0),\n",
              " (2.5, 1),\n",
              " (3.0, 0),\n",
              " (3.5, 1),\n",
              " (4.0, 0),\n",
              " (4.5, 1)]"
            ]
          },
          "metadata": {
            "tags": []
          },
          "execution_count": 63
        }
      ]
    },
    {
      "cell_type": "code",
      "metadata": {
        "id": "ULzlwargrV3U"
      },
      "source": [
        "# When we are building truth tables, while calculating loss on it, \n",
        "# we can end up with div by 0 situations and other exceptions also\n",
        "\n",
        "# DERIVATES and PARTIAL DERIVATIVES \n",
        "# https://www.mathsisfun.com/calculus/derivatives-introduction.html \n",
        "# https://www.mathsisfun.com/calculus/derivatives-partial.html \n",
        "\n"
      ],
      "execution_count": null,
      "outputs": []
    }
  ]
}