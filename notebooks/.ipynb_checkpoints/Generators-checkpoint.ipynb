{
 "cells": [
  {
   "cell_type": "code",
   "execution_count": 2,
   "metadata": {
    "id": "9srpwQWxSHCU"
   },
   "outputs": [],
   "source": [
    "# COMMON LOGIC\n",
    "# Generators -> fixed LOGIC\n",
    "# Spawner-> arbitrary logic\n",
    "# Randomness-> pseudo-random (seed)-> if you keep repeating for a long time, you will start getting the SAME numbers back!\n"
   ]
  },
  {
   "cell_type": "code",
   "execution_count": 3,
   "metadata": {},
   "outputs": [],
   "source": [
    "class PrimeNum:\n",
    "    def __iter__(this):\n",
    "        this.curr = 1\n",
    "        return this\n",
    "    def __next__(this):\n",
    "        this.cand = this.curr + 1\n",
    "        while True:#if this.cand > 1:\n",
    "            for i in range(2, this.cand//2 + 1):\n",
    "                if (this.cand % i) == 0:\n",
    "                    this.cand = this.cand + 1\n",
    "                    break\n",
    "            else:\n",
    "                break\n",
    "        this.curr = this.cand\n",
    "        return this.curr"
   ]
  },
  {
   "cell_type": "code",
   "execution_count": 4,
   "metadata": {},
   "outputs": [],
   "source": [
    "prime = PrimeNum()"
   ]
  },
  {
   "cell_type": "code",
   "execution_count": 5,
   "metadata": {},
   "outputs": [],
   "source": [
    "i = iter(prime)"
   ]
  },
  {
   "cell_type": "code",
   "execution_count": 6,
   "metadata": {},
   "outputs": [
    {
     "name": "stdout",
     "output_type": "stream",
     "text": [
      "2 3 5 7 11 13 17 19 23 29 31 37 41 43 47 53 59 61 67 71 73 79 83 89 97 101 103 107 109 113 "
     ]
    }
   ],
   "source": [
    "for j in range(30):\n",
    "    print(next(i), end=\" \")"
   ]
  },
  {
   "cell_type": "code",
   "execution_count": null,
   "metadata": {},
   "outputs": [],
   "source": []
  },
  {
   "cell_type": "code",
   "execution_count": 7,
   "metadata": {
    "id": "oB5Y3AqAS9gZ"
   },
   "outputs": [],
   "source": [
    "# Series and Propagation\n",
    "\n",
    "class Fibonacci:\n",
    "    def __iter__(this):\n",
    "        this.n1 = -1\n",
    "        this.n2 = 1\n",
    "        return this\n",
    "    def __next__(this):\n",
    "        this.n3 = this.n1 + this.n2\n",
    "        this.n1 = this.n2\n",
    "        this.n2 = this.n3\n",
    "        return this.n3\n"
   ]
  },
  {
   "cell_type": "code",
   "execution_count": 8,
   "metadata": {
    "id": "UdwivCDhaYMm"
   },
   "outputs": [],
   "source": [
    "series = Fibonacci()"
   ]
  },
  {
   "cell_type": "code",
   "execution_count": 9,
   "metadata": {
    "id": "oBsJb2WrabJQ"
   },
   "outputs": [],
   "source": [
    "i = iter(series)"
   ]
  },
  {
   "cell_type": "code",
   "execution_count": 10,
   "metadata": {
    "colab": {
     "base_uri": "https://localhost:8080/"
    },
    "id": "SIDQHD2haiGH",
    "outputId": "bb3e2b7a-f72b-42a0-e7f5-4130fab252d3"
   },
   "outputs": [
    {
     "name": "stdout",
     "output_type": "stream",
     "text": [
      "0 1 1 2 3 5 8 13 21 34 55 89 144 233 377 610 987 1597 2584 4181 "
     ]
    }
   ],
   "source": [
    "for j in range(20):\n",
    "  print(next(i), end=\" \")"
   ]
  },
  {
   "cell_type": "code",
   "execution_count": 11,
   "metadata": {
    "colab": {
     "base_uri": "https://localhost:8080/"
    },
    "id": "PdK_MwrratFI",
    "outputId": "5cb6bd8f-594f-49b6-d037-fdb31aa94f05"
   },
   "outputs": [
    {
     "data": {
      "text/plain": [
       "6765"
      ]
     },
     "execution_count": 11,
     "metadata": {},
     "output_type": "execute_result"
    }
   ],
   "source": [
    "next(i)"
   ]
  },
  {
   "cell_type": "code",
   "execution_count": null,
   "metadata": {
    "id": "ur6jci7ybFGo"
   },
   "outputs": [],
   "source": []
  }
 ],
 "metadata": {
  "colab": {
   "authorship_tag": "ABX9TyOd0vWCd6ZkmwAGvPWMkBaf",
   "include_colab_link": true,
   "name": "Generators.ipynb",
   "provenance": []
  },
  "kernelspec": {
   "display_name": "Python 3 (ipykernel)",
   "language": "python",
   "name": "python3"
  },
  "language_info": {
   "codemirror_mode": {
    "name": "ipython",
    "version": 3
   },
   "file_extension": ".py",
   "mimetype": "text/x-python",
   "name": "python",
   "nbconvert_exporter": "python",
   "pygments_lexer": "ipython3",
   "version": "3.9.7"
  }
 },
 "nbformat": 4,
 "nbformat_minor": 1
}
